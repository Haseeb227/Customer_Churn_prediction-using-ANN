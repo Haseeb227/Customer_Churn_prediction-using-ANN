{
  "nbformat": 4,
  "nbformat_minor": 0,
  "metadata": {
    "colab": {
      "provenance": [],
      "authorship_tag": "ABX9TyMQo+B54S5o09xKWtCIPNPm",
      "include_colab_link": true
    },
    "kernelspec": {
      "name": "python3",
      "display_name": "Python 3"
    },
    "language_info": {
      "name": "python"
    }
  },
  "cells": [
    {
      "cell_type": "markdown",
      "metadata": {
        "id": "view-in-github",
        "colab_type": "text"
      },
      "source": [
        "<a href=\"https://colab.research.google.com/github/Haseeb227/Customer_Churn_prediction-using-ANN/blob/main/Churn_Prediction_using_ANN.ipynb\" target=\"_parent\"><img src=\"https://colab.research.google.com/assets/colab-badge.svg\" alt=\"Open In Colab\"/></a>"
      ]
    },
    {
      "cell_type": "code",
      "execution_count": 1,
      "metadata": {
        "id": "H1GmdkQmhA9o"
      },
      "outputs": [],
      "source": [
        "!pip install -q keras"
      ]
    },
    {
      "cell_type": "code",
      "source": [
        "!pip install tensorflow"
      ],
      "metadata": {
        "id": "CDkpxODrh6Ov"
      },
      "execution_count": null,
      "outputs": []
    },
    {
      "cell_type": "code",
      "source": [
        "import pandas as pd\n",
        "import numpy as np\n",
        "import tensorflow\n",
        "from tensorflow import keras\n",
        "from tensorflow.keras import Sequential\n",
        "from tensorflow.keras.layers import Dense,Flatten"
      ],
      "metadata": {
        "id": "vL-v6jHKhP7E"
      },
      "execution_count": 1,
      "outputs": []
    },
    {
      "cell_type": "code",
      "source": [
        "from google.colab import drive\n",
        "drive.mount('/content/drive/')"
      ],
      "metadata": {
        "colab": {
          "base_uri": "https://localhost:8080/"
        },
        "id": "Y6xQy7CmhtTK",
        "outputId": "cd68d6f6-0231-4112-c1ae-12e0f5036762"
      },
      "execution_count": 2,
      "outputs": [
        {
          "output_type": "stream",
          "name": "stdout",
          "text": [
            "Mounted at /content/drive/\n"
          ]
        }
      ]
    },
    {
      "cell_type": "code",
      "source": [
        "df = pd.read_csv('/content/drive/MyDrive/ML Practice/Churn_Modelling.csv',encoding='latin-1')"
      ],
      "metadata": {
        "id": "Qq_VAU6PiDhC"
      },
      "execution_count": 3,
      "outputs": []
    },
    {
      "cell_type": "code",
      "source": [
        "df.head()"
      ],
      "metadata": {
        "colab": {
          "base_uri": "https://localhost:8080/",
          "height": 206
        },
        "id": "PnTPmVj_i2Wm",
        "outputId": "42ab7002-1694-48eb-bcc8-31c2fab96980"
      },
      "execution_count": 4,
      "outputs": [
        {
          "output_type": "execute_result",
          "data": {
            "text/plain": [
              "   RowNumber  CustomerId   Surname  CreditScore Geography  Gender  Age  \\\n",
              "0          1    15634602  Hargrave          619    France  Female   42   \n",
              "1          2    15647311      Hill          608     Spain  Female   41   \n",
              "2          3    15619304      Onio          502    France  Female   42   \n",
              "3          4    15701354      Boni          699    France  Female   39   \n",
              "4          5    15737888  Mitchell          850     Spain  Female   43   \n",
              "\n",
              "   Tenure    Balance  NumOfProducts  HasCrCard  IsActiveMember  \\\n",
              "0       2       0.00              1          1               1   \n",
              "1       1   83807.86              1          0               1   \n",
              "2       8  159660.80              3          1               0   \n",
              "3       1       0.00              2          0               0   \n",
              "4       2  125510.82              1          1               1   \n",
              "\n",
              "   EstimatedSalary  Exited  \n",
              "0        101348.88       1  \n",
              "1        112542.58       0  \n",
              "2        113931.57       1  \n",
              "3         93826.63       0  \n",
              "4         79084.10       0  "
            ],
            "text/html": [
              "\n",
              "  <div id=\"df-fc44a124-88ce-4ef4-b4f2-223011543733\">\n",
              "    <div class=\"colab-df-container\">\n",
              "      <div>\n",
              "<style scoped>\n",
              "    .dataframe tbody tr th:only-of-type {\n",
              "        vertical-align: middle;\n",
              "    }\n",
              "\n",
              "    .dataframe tbody tr th {\n",
              "        vertical-align: top;\n",
              "    }\n",
              "\n",
              "    .dataframe thead th {\n",
              "        text-align: right;\n",
              "    }\n",
              "</style>\n",
              "<table border=\"1\" class=\"dataframe\">\n",
              "  <thead>\n",
              "    <tr style=\"text-align: right;\">\n",
              "      <th></th>\n",
              "      <th>RowNumber</th>\n",
              "      <th>CustomerId</th>\n",
              "      <th>Surname</th>\n",
              "      <th>CreditScore</th>\n",
              "      <th>Geography</th>\n",
              "      <th>Gender</th>\n",
              "      <th>Age</th>\n",
              "      <th>Tenure</th>\n",
              "      <th>Balance</th>\n",
              "      <th>NumOfProducts</th>\n",
              "      <th>HasCrCard</th>\n",
              "      <th>IsActiveMember</th>\n",
              "      <th>EstimatedSalary</th>\n",
              "      <th>Exited</th>\n",
              "    </tr>\n",
              "  </thead>\n",
              "  <tbody>\n",
              "    <tr>\n",
              "      <th>0</th>\n",
              "      <td>1</td>\n",
              "      <td>15634602</td>\n",
              "      <td>Hargrave</td>\n",
              "      <td>619</td>\n",
              "      <td>France</td>\n",
              "      <td>Female</td>\n",
              "      <td>42</td>\n",
              "      <td>2</td>\n",
              "      <td>0.00</td>\n",
              "      <td>1</td>\n",
              "      <td>1</td>\n",
              "      <td>1</td>\n",
              "      <td>101348.88</td>\n",
              "      <td>1</td>\n",
              "    </tr>\n",
              "    <tr>\n",
              "      <th>1</th>\n",
              "      <td>2</td>\n",
              "      <td>15647311</td>\n",
              "      <td>Hill</td>\n",
              "      <td>608</td>\n",
              "      <td>Spain</td>\n",
              "      <td>Female</td>\n",
              "      <td>41</td>\n",
              "      <td>1</td>\n",
              "      <td>83807.86</td>\n",
              "      <td>1</td>\n",
              "      <td>0</td>\n",
              "      <td>1</td>\n",
              "      <td>112542.58</td>\n",
              "      <td>0</td>\n",
              "    </tr>\n",
              "    <tr>\n",
              "      <th>2</th>\n",
              "      <td>3</td>\n",
              "      <td>15619304</td>\n",
              "      <td>Onio</td>\n",
              "      <td>502</td>\n",
              "      <td>France</td>\n",
              "      <td>Female</td>\n",
              "      <td>42</td>\n",
              "      <td>8</td>\n",
              "      <td>159660.80</td>\n",
              "      <td>3</td>\n",
              "      <td>1</td>\n",
              "      <td>0</td>\n",
              "      <td>113931.57</td>\n",
              "      <td>1</td>\n",
              "    </tr>\n",
              "    <tr>\n",
              "      <th>3</th>\n",
              "      <td>4</td>\n",
              "      <td>15701354</td>\n",
              "      <td>Boni</td>\n",
              "      <td>699</td>\n",
              "      <td>France</td>\n",
              "      <td>Female</td>\n",
              "      <td>39</td>\n",
              "      <td>1</td>\n",
              "      <td>0.00</td>\n",
              "      <td>2</td>\n",
              "      <td>0</td>\n",
              "      <td>0</td>\n",
              "      <td>93826.63</td>\n",
              "      <td>0</td>\n",
              "    </tr>\n",
              "    <tr>\n",
              "      <th>4</th>\n",
              "      <td>5</td>\n",
              "      <td>15737888</td>\n",
              "      <td>Mitchell</td>\n",
              "      <td>850</td>\n",
              "      <td>Spain</td>\n",
              "      <td>Female</td>\n",
              "      <td>43</td>\n",
              "      <td>2</td>\n",
              "      <td>125510.82</td>\n",
              "      <td>1</td>\n",
              "      <td>1</td>\n",
              "      <td>1</td>\n",
              "      <td>79084.10</td>\n",
              "      <td>0</td>\n",
              "    </tr>\n",
              "  </tbody>\n",
              "</table>\n",
              "</div>\n",
              "      <button class=\"colab-df-convert\" onclick=\"convertToInteractive('df-fc44a124-88ce-4ef4-b4f2-223011543733')\"\n",
              "              title=\"Convert this dataframe to an interactive table.\"\n",
              "              style=\"display:none;\">\n",
              "        \n",
              "  <svg xmlns=\"http://www.w3.org/2000/svg\" height=\"24px\"viewBox=\"0 0 24 24\"\n",
              "       width=\"24px\">\n",
              "    <path d=\"M0 0h24v24H0V0z\" fill=\"none\"/>\n",
              "    <path d=\"M18.56 5.44l.94 2.06.94-2.06 2.06-.94-2.06-.94-.94-2.06-.94 2.06-2.06.94zm-11 1L8.5 8.5l.94-2.06 2.06-.94-2.06-.94L8.5 2.5l-.94 2.06-2.06.94zm10 10l.94 2.06.94-2.06 2.06-.94-2.06-.94-.94-2.06-.94 2.06-2.06.94z\"/><path d=\"M17.41 7.96l-1.37-1.37c-.4-.4-.92-.59-1.43-.59-.52 0-1.04.2-1.43.59L10.3 9.45l-7.72 7.72c-.78.78-.78 2.05 0 2.83L4 21.41c.39.39.9.59 1.41.59.51 0 1.02-.2 1.41-.59l7.78-7.78 2.81-2.81c.8-.78.8-2.07 0-2.86zM5.41 20L4 18.59l7.72-7.72 1.47 1.35L5.41 20z\"/>\n",
              "  </svg>\n",
              "      </button>\n",
              "      \n",
              "  <style>\n",
              "    .colab-df-container {\n",
              "      display:flex;\n",
              "      flex-wrap:wrap;\n",
              "      gap: 12px;\n",
              "    }\n",
              "\n",
              "    .colab-df-convert {\n",
              "      background-color: #E8F0FE;\n",
              "      border: none;\n",
              "      border-radius: 50%;\n",
              "      cursor: pointer;\n",
              "      display: none;\n",
              "      fill: #1967D2;\n",
              "      height: 32px;\n",
              "      padding: 0 0 0 0;\n",
              "      width: 32px;\n",
              "    }\n",
              "\n",
              "    .colab-df-convert:hover {\n",
              "      background-color: #E2EBFA;\n",
              "      box-shadow: 0px 1px 2px rgba(60, 64, 67, 0.3), 0px 1px 3px 1px rgba(60, 64, 67, 0.15);\n",
              "      fill: #174EA6;\n",
              "    }\n",
              "\n",
              "    [theme=dark] .colab-df-convert {\n",
              "      background-color: #3B4455;\n",
              "      fill: #D2E3FC;\n",
              "    }\n",
              "\n",
              "    [theme=dark] .colab-df-convert:hover {\n",
              "      background-color: #434B5C;\n",
              "      box-shadow: 0px 1px 3px 1px rgba(0, 0, 0, 0.15);\n",
              "      filter: drop-shadow(0px 1px 2px rgba(0, 0, 0, 0.3));\n",
              "      fill: #FFFFFF;\n",
              "    }\n",
              "  </style>\n",
              "\n",
              "      <script>\n",
              "        const buttonEl =\n",
              "          document.querySelector('#df-fc44a124-88ce-4ef4-b4f2-223011543733 button.colab-df-convert');\n",
              "        buttonEl.style.display =\n",
              "          google.colab.kernel.accessAllowed ? 'block' : 'none';\n",
              "\n",
              "        async function convertToInteractive(key) {\n",
              "          const element = document.querySelector('#df-fc44a124-88ce-4ef4-b4f2-223011543733');\n",
              "          const dataTable =\n",
              "            await google.colab.kernel.invokeFunction('convertToInteractive',\n",
              "                                                     [key], {});\n",
              "          if (!dataTable) return;\n",
              "\n",
              "          const docLinkHtml = 'Like what you see? Visit the ' +\n",
              "            '<a target=\"_blank\" href=https://colab.research.google.com/notebooks/data_table.ipynb>data table notebook</a>'\n",
              "            + ' to learn more about interactive tables.';\n",
              "          element.innerHTML = '';\n",
              "          dataTable['output_type'] = 'display_data';\n",
              "          await google.colab.output.renderOutput(dataTable, element);\n",
              "          const docLink = document.createElement('div');\n",
              "          docLink.innerHTML = docLinkHtml;\n",
              "          element.appendChild(docLink);\n",
              "        }\n",
              "      </script>\n",
              "    </div>\n",
              "  </div>\n",
              "  "
            ]
          },
          "metadata": {},
          "execution_count": 4
        }
      ]
    },
    {
      "cell_type": "code",
      "source": [
        "df.columns"
      ],
      "metadata": {
        "colab": {
          "base_uri": "https://localhost:8080/"
        },
        "id": "-iQ2YAU3i309",
        "outputId": "80163726-e283-4e92-9e97-557f77af56ea"
      },
      "execution_count": 5,
      "outputs": [
        {
          "output_type": "execute_result",
          "data": {
            "text/plain": [
              "Index(['RowNumber', 'CustomerId', 'Surname', 'CreditScore', 'Geography',\n",
              "       'Gender', 'Age', 'Tenure', 'Balance', 'NumOfProducts', 'HasCrCard',\n",
              "       'IsActiveMember', 'EstimatedSalary', 'Exited'],\n",
              "      dtype='object')"
            ]
          },
          "metadata": {},
          "execution_count": 5
        }
      ]
    },
    {
      "cell_type": "code",
      "source": [
        "df['Geography'].value_counts()"
      ],
      "metadata": {
        "colab": {
          "base_uri": "https://localhost:8080/"
        },
        "id": "-WPfIzkMjHeW",
        "outputId": "52121111-41f5-4bc6-e002-ee34d2e77098"
      },
      "execution_count": 6,
      "outputs": [
        {
          "output_type": "execute_result",
          "data": {
            "text/plain": [
              "France     5014\n",
              "Germany    2509\n",
              "Spain      2477\n",
              "Name: Geography, dtype: int64"
            ]
          },
          "metadata": {},
          "execution_count": 6
        }
      ]
    },
    {
      "cell_type": "code",
      "source": [
        "df['Gender'].value_counts()"
      ],
      "metadata": {
        "colab": {
          "base_uri": "https://localhost:8080/"
        },
        "id": "YGGNxGrQjMdG",
        "outputId": "66d36e4f-8970-4d70-ba99-037607f2af52"
      },
      "execution_count": 7,
      "outputs": [
        {
          "output_type": "execute_result",
          "data": {
            "text/plain": [
              "Male      5457\n",
              "Female    4543\n",
              "Name: Gender, dtype: int64"
            ]
          },
          "metadata": {},
          "execution_count": 7
        }
      ]
    },
    {
      "cell_type": "code",
      "source": [
        "df.drop(columns=['RowNumber','CustomerId','Surname'],inplace=True)"
      ],
      "metadata": {
        "id": "eMPCrP0vjbc3"
      },
      "execution_count": 8,
      "outputs": []
    },
    {
      "cell_type": "code",
      "source": [
        "df.head()"
      ],
      "metadata": {
        "colab": {
          "base_uri": "https://localhost:8080/",
          "height": 206
        },
        "id": "Ki5YSXdhjkh9",
        "outputId": "f799e49c-7b1b-4724-a6e7-050b2c40afbd"
      },
      "execution_count": 9,
      "outputs": [
        {
          "output_type": "execute_result",
          "data": {
            "text/plain": [
              "   CreditScore Geography  Gender  Age  Tenure    Balance  NumOfProducts  \\\n",
              "0          619    France  Female   42       2       0.00              1   \n",
              "1          608     Spain  Female   41       1   83807.86              1   \n",
              "2          502    France  Female   42       8  159660.80              3   \n",
              "3          699    France  Female   39       1       0.00              2   \n",
              "4          850     Spain  Female   43       2  125510.82              1   \n",
              "\n",
              "   HasCrCard  IsActiveMember  EstimatedSalary  Exited  \n",
              "0          1               1        101348.88       1  \n",
              "1          0               1        112542.58       0  \n",
              "2          1               0        113931.57       1  \n",
              "3          0               0         93826.63       0  \n",
              "4          1               1         79084.10       0  "
            ],
            "text/html": [
              "\n",
              "  <div id=\"df-4f928962-5866-4b88-bc39-318a60462156\">\n",
              "    <div class=\"colab-df-container\">\n",
              "      <div>\n",
              "<style scoped>\n",
              "    .dataframe tbody tr th:only-of-type {\n",
              "        vertical-align: middle;\n",
              "    }\n",
              "\n",
              "    .dataframe tbody tr th {\n",
              "        vertical-align: top;\n",
              "    }\n",
              "\n",
              "    .dataframe thead th {\n",
              "        text-align: right;\n",
              "    }\n",
              "</style>\n",
              "<table border=\"1\" class=\"dataframe\">\n",
              "  <thead>\n",
              "    <tr style=\"text-align: right;\">\n",
              "      <th></th>\n",
              "      <th>CreditScore</th>\n",
              "      <th>Geography</th>\n",
              "      <th>Gender</th>\n",
              "      <th>Age</th>\n",
              "      <th>Tenure</th>\n",
              "      <th>Balance</th>\n",
              "      <th>NumOfProducts</th>\n",
              "      <th>HasCrCard</th>\n",
              "      <th>IsActiveMember</th>\n",
              "      <th>EstimatedSalary</th>\n",
              "      <th>Exited</th>\n",
              "    </tr>\n",
              "  </thead>\n",
              "  <tbody>\n",
              "    <tr>\n",
              "      <th>0</th>\n",
              "      <td>619</td>\n",
              "      <td>France</td>\n",
              "      <td>Female</td>\n",
              "      <td>42</td>\n",
              "      <td>2</td>\n",
              "      <td>0.00</td>\n",
              "      <td>1</td>\n",
              "      <td>1</td>\n",
              "      <td>1</td>\n",
              "      <td>101348.88</td>\n",
              "      <td>1</td>\n",
              "    </tr>\n",
              "    <tr>\n",
              "      <th>1</th>\n",
              "      <td>608</td>\n",
              "      <td>Spain</td>\n",
              "      <td>Female</td>\n",
              "      <td>41</td>\n",
              "      <td>1</td>\n",
              "      <td>83807.86</td>\n",
              "      <td>1</td>\n",
              "      <td>0</td>\n",
              "      <td>1</td>\n",
              "      <td>112542.58</td>\n",
              "      <td>0</td>\n",
              "    </tr>\n",
              "    <tr>\n",
              "      <th>2</th>\n",
              "      <td>502</td>\n",
              "      <td>France</td>\n",
              "      <td>Female</td>\n",
              "      <td>42</td>\n",
              "      <td>8</td>\n",
              "      <td>159660.80</td>\n",
              "      <td>3</td>\n",
              "      <td>1</td>\n",
              "      <td>0</td>\n",
              "      <td>113931.57</td>\n",
              "      <td>1</td>\n",
              "    </tr>\n",
              "    <tr>\n",
              "      <th>3</th>\n",
              "      <td>699</td>\n",
              "      <td>France</td>\n",
              "      <td>Female</td>\n",
              "      <td>39</td>\n",
              "      <td>1</td>\n",
              "      <td>0.00</td>\n",
              "      <td>2</td>\n",
              "      <td>0</td>\n",
              "      <td>0</td>\n",
              "      <td>93826.63</td>\n",
              "      <td>0</td>\n",
              "    </tr>\n",
              "    <tr>\n",
              "      <th>4</th>\n",
              "      <td>850</td>\n",
              "      <td>Spain</td>\n",
              "      <td>Female</td>\n",
              "      <td>43</td>\n",
              "      <td>2</td>\n",
              "      <td>125510.82</td>\n",
              "      <td>1</td>\n",
              "      <td>1</td>\n",
              "      <td>1</td>\n",
              "      <td>79084.10</td>\n",
              "      <td>0</td>\n",
              "    </tr>\n",
              "  </tbody>\n",
              "</table>\n",
              "</div>\n",
              "      <button class=\"colab-df-convert\" onclick=\"convertToInteractive('df-4f928962-5866-4b88-bc39-318a60462156')\"\n",
              "              title=\"Convert this dataframe to an interactive table.\"\n",
              "              style=\"display:none;\">\n",
              "        \n",
              "  <svg xmlns=\"http://www.w3.org/2000/svg\" height=\"24px\"viewBox=\"0 0 24 24\"\n",
              "       width=\"24px\">\n",
              "    <path d=\"M0 0h24v24H0V0z\" fill=\"none\"/>\n",
              "    <path d=\"M18.56 5.44l.94 2.06.94-2.06 2.06-.94-2.06-.94-.94-2.06-.94 2.06-2.06.94zm-11 1L8.5 8.5l.94-2.06 2.06-.94-2.06-.94L8.5 2.5l-.94 2.06-2.06.94zm10 10l.94 2.06.94-2.06 2.06-.94-2.06-.94-.94-2.06-.94 2.06-2.06.94z\"/><path d=\"M17.41 7.96l-1.37-1.37c-.4-.4-.92-.59-1.43-.59-.52 0-1.04.2-1.43.59L10.3 9.45l-7.72 7.72c-.78.78-.78 2.05 0 2.83L4 21.41c.39.39.9.59 1.41.59.51 0 1.02-.2 1.41-.59l7.78-7.78 2.81-2.81c.8-.78.8-2.07 0-2.86zM5.41 20L4 18.59l7.72-7.72 1.47 1.35L5.41 20z\"/>\n",
              "  </svg>\n",
              "      </button>\n",
              "      \n",
              "  <style>\n",
              "    .colab-df-container {\n",
              "      display:flex;\n",
              "      flex-wrap:wrap;\n",
              "      gap: 12px;\n",
              "    }\n",
              "\n",
              "    .colab-df-convert {\n",
              "      background-color: #E8F0FE;\n",
              "      border: none;\n",
              "      border-radius: 50%;\n",
              "      cursor: pointer;\n",
              "      display: none;\n",
              "      fill: #1967D2;\n",
              "      height: 32px;\n",
              "      padding: 0 0 0 0;\n",
              "      width: 32px;\n",
              "    }\n",
              "\n",
              "    .colab-df-convert:hover {\n",
              "      background-color: #E2EBFA;\n",
              "      box-shadow: 0px 1px 2px rgba(60, 64, 67, 0.3), 0px 1px 3px 1px rgba(60, 64, 67, 0.15);\n",
              "      fill: #174EA6;\n",
              "    }\n",
              "\n",
              "    [theme=dark] .colab-df-convert {\n",
              "      background-color: #3B4455;\n",
              "      fill: #D2E3FC;\n",
              "    }\n",
              "\n",
              "    [theme=dark] .colab-df-convert:hover {\n",
              "      background-color: #434B5C;\n",
              "      box-shadow: 0px 1px 3px 1px rgba(0, 0, 0, 0.15);\n",
              "      filter: drop-shadow(0px 1px 2px rgba(0, 0, 0, 0.3));\n",
              "      fill: #FFFFFF;\n",
              "    }\n",
              "  </style>\n",
              "\n",
              "      <script>\n",
              "        const buttonEl =\n",
              "          document.querySelector('#df-4f928962-5866-4b88-bc39-318a60462156 button.colab-df-convert');\n",
              "        buttonEl.style.display =\n",
              "          google.colab.kernel.accessAllowed ? 'block' : 'none';\n",
              "\n",
              "        async function convertToInteractive(key) {\n",
              "          const element = document.querySelector('#df-4f928962-5866-4b88-bc39-318a60462156');\n",
              "          const dataTable =\n",
              "            await google.colab.kernel.invokeFunction('convertToInteractive',\n",
              "                                                     [key], {});\n",
              "          if (!dataTable) return;\n",
              "\n",
              "          const docLinkHtml = 'Like what you see? Visit the ' +\n",
              "            '<a target=\"_blank\" href=https://colab.research.google.com/notebooks/data_table.ipynb>data table notebook</a>'\n",
              "            + ' to learn more about interactive tables.';\n",
              "          element.innerHTML = '';\n",
              "          dataTable['output_type'] = 'display_data';\n",
              "          await google.colab.output.renderOutput(dataTable, element);\n",
              "          const docLink = document.createElement('div');\n",
              "          docLink.innerHTML = docLinkHtml;\n",
              "          element.appendChild(docLink);\n",
              "        }\n",
              "      </script>\n",
              "    </div>\n",
              "  </div>\n",
              "  "
            ]
          },
          "metadata": {},
          "execution_count": 9
        }
      ]
    },
    {
      "cell_type": "code",
      "source": [
        "df = pd.get_dummies(df,columns=['Geography','Gender'],drop_first=True)"
      ],
      "metadata": {
        "id": "hqgEAUKZjp96"
      },
      "execution_count": 10,
      "outputs": []
    },
    {
      "cell_type": "code",
      "source": [
        "x = df.drop(columns=['Exited'])\n",
        "y = df['Exited']\n",
        "from sklearn.model_selection import train_test_split\n",
        "x_train,x_test,y_train,y_test=train_test_split(x,y,test_size=0.2,random_state=1)"
      ],
      "metadata": {
        "id": "CCVOL8-Zj-Kr"
      },
      "execution_count": 11,
      "outputs": []
    },
    {
      "cell_type": "code",
      "source": [
        "x_train.shape"
      ],
      "metadata": {
        "colab": {
          "base_uri": "https://localhost:8080/"
        },
        "id": "m56rHQc4kqLQ",
        "outputId": "232273d7-0dfe-47c6-c842-9328663e2468"
      },
      "execution_count": 12,
      "outputs": [
        {
          "output_type": "execute_result",
          "data": {
            "text/plain": [
              "(8000, 11)"
            ]
          },
          "metadata": {},
          "execution_count": 12
        }
      ]
    },
    {
      "cell_type": "code",
      "source": [
        "x_train.columns"
      ],
      "metadata": {
        "colab": {
          "base_uri": "https://localhost:8080/"
        },
        "id": "SabRJ6J9laZT",
        "outputId": "9840758a-f189-4acc-c124-4711d8fe78d5"
      },
      "execution_count": 13,
      "outputs": [
        {
          "output_type": "execute_result",
          "data": {
            "text/plain": [
              "Index(['CreditScore', 'Age', 'Tenure', 'Balance', 'NumOfProducts', 'HasCrCard',\n",
              "       'IsActiveMember', 'EstimatedSalary', 'Geography_Germany',\n",
              "       'Geography_Spain', 'Gender_Male'],\n",
              "      dtype='object')"
            ]
          },
          "metadata": {},
          "execution_count": 13
        }
      ]
    },
    {
      "cell_type": "code",
      "source": [
        "from imblearn.over_sampling import SMOTE\n",
        "smt = SMOTE()\n",
        "x_train_smt,y_train_smt = smt.fit_resample(x_train,y_train)"
      ],
      "metadata": {
        "id": "qU9jauE7lufQ"
      },
      "execution_count": 14,
      "outputs": []
    },
    {
      "cell_type": "code",
      "source": [
        "y_train_smt.value_counts()"
      ],
      "metadata": {
        "colab": {
          "base_uri": "https://localhost:8080/"
        },
        "id": "hQfiQv6jmEvl",
        "outputId": "a89ee798-c593-4933-8428-8c1f20e56197"
      },
      "execution_count": 17,
      "outputs": [
        {
          "output_type": "execute_result",
          "data": {
            "text/plain": [
              "0    6378\n",
              "1    6378\n",
              "Name: Exited, dtype: int64"
            ]
          },
          "metadata": {},
          "execution_count": 17
        }
      ]
    },
    {
      "cell_type": "code",
      "source": [
        "from sklearn.preprocessing import StandardScaler\n",
        "scaler = StandardScaler()\n",
        "\n",
        "x_train_scaled = scaler.fit_transform(x_train_smt)\n",
        "x_test_scaled = scaler.transform(x_test)"
      ],
      "metadata": {
        "id": "V9iJaRmakw1J"
      },
      "execution_count": 15,
      "outputs": []
    },
    {
      "cell_type": "code",
      "source": [
        "model = Sequential()\n",
        "model.add(Dense(11,activation='relu',input_dim=11))\n",
        "model.add(Dense(11,activation='relu'))\n",
        "model.add(Dense(11,activation='relu'))\n",
        "model.add(Dense(11,activation='relu'))\n",
        "model.add(Dense(11,activation='relu'))\n",
        "model.add(Dense(1,activation='sigmoid'))"
      ],
      "metadata": {
        "id": "s-xp2V9bldcI"
      },
      "execution_count": 18,
      "outputs": []
    },
    {
      "cell_type": "code",
      "source": [
        "model.summary()"
      ],
      "metadata": {
        "colab": {
          "base_uri": "https://localhost:8080/"
        },
        "id": "cUS2LbzGlQQ2",
        "outputId": "27cbf40b-8f0f-4dd2-dab3-93717df0ee37"
      },
      "execution_count": 19,
      "outputs": [
        {
          "output_type": "stream",
          "name": "stdout",
          "text": [
            "Model: \"sequential\"\n",
            "_________________________________________________________________\n",
            " Layer (type)                Output Shape              Param #   \n",
            "=================================================================\n",
            " dense (Dense)               (None, 11)                132       \n",
            "                                                                 \n",
            " dense_1 (Dense)             (None, 11)                132       \n",
            "                                                                 \n",
            " dense_2 (Dense)             (None, 11)                132       \n",
            "                                                                 \n",
            " dense_3 (Dense)             (None, 11)                132       \n",
            "                                                                 \n",
            " dense_4 (Dense)             (None, 11)                132       \n",
            "                                                                 \n",
            " dense_5 (Dense)             (None, 1)                 12        \n",
            "                                                                 \n",
            "=================================================================\n",
            "Total params: 672\n",
            "Trainable params: 672\n",
            "Non-trainable params: 0\n",
            "_________________________________________________________________\n"
          ]
        }
      ]
    },
    {
      "cell_type": "code",
      "source": [
        "model.compile(loss='binary_crossentropy',optimizer='Adam',metrics=['accuracy'])"
      ],
      "metadata": {
        "id": "10yE5vgCmX17"
      },
      "execution_count": 20,
      "outputs": []
    },
    {
      "cell_type": "code",
      "source": [
        "history = model.fit(x_train_scaled,y_train_smt,epochs=100,validation_split=0.2)"
      ],
      "metadata": {
        "colab": {
          "base_uri": "https://localhost:8080/"
        },
        "id": "BRHtwZ2qm0D6",
        "outputId": "0ae2bc42-6af6-47da-a45c-cdbc597e641c"
      },
      "execution_count": 21,
      "outputs": [
        {
          "output_type": "stream",
          "name": "stdout",
          "text": [
            "Epoch 1/100\n",
            "319/319 [==============================] - 2s 3ms/step - loss: 0.5723 - accuracy: 0.6992 - val_loss: 0.5046 - val_accuracy: 0.7661\n",
            "Epoch 2/100\n",
            "319/319 [==============================] - 1s 2ms/step - loss: 0.4820 - accuracy: 0.7719 - val_loss: 0.5247 - val_accuracy: 0.7257\n",
            "Epoch 3/100\n",
            "319/319 [==============================] - 1s 2ms/step - loss: 0.4644 - accuracy: 0.7812 - val_loss: 0.4615 - val_accuracy: 0.7527\n",
            "Epoch 4/100\n",
            "319/319 [==============================] - 1s 2ms/step - loss: 0.4533 - accuracy: 0.7911 - val_loss: 0.4732 - val_accuracy: 0.7524\n",
            "Epoch 5/100\n",
            "319/319 [==============================] - 1s 2ms/step - loss: 0.4396 - accuracy: 0.7995 - val_loss: 0.4757 - val_accuracy: 0.7469\n",
            "Epoch 6/100\n",
            "319/319 [==============================] - 1s 2ms/step - loss: 0.4240 - accuracy: 0.8059 - val_loss: 0.5796 - val_accuracy: 0.6897\n",
            "Epoch 7/100\n",
            "319/319 [==============================] - 1s 2ms/step - loss: 0.4124 - accuracy: 0.8123 - val_loss: 0.3983 - val_accuracy: 0.8013\n",
            "Epoch 8/100\n",
            "319/319 [==============================] - 1s 2ms/step - loss: 0.4056 - accuracy: 0.8158 - val_loss: 0.4123 - val_accuracy: 0.7911\n",
            "Epoch 9/100\n",
            "319/319 [==============================] - 1s 2ms/step - loss: 0.4005 - accuracy: 0.8186 - val_loss: 0.4012 - val_accuracy: 0.8080\n",
            "Epoch 10/100\n",
            "319/319 [==============================] - 1s 2ms/step - loss: 0.3978 - accuracy: 0.8211 - val_loss: 0.4494 - val_accuracy: 0.7696\n",
            "Epoch 11/100\n",
            "319/319 [==============================] - 1s 2ms/step - loss: 0.3952 - accuracy: 0.8214 - val_loss: 0.5239 - val_accuracy: 0.7175\n",
            "Epoch 12/100\n",
            "319/319 [==============================] - 1s 2ms/step - loss: 0.3932 - accuracy: 0.8185 - val_loss: 0.4310 - val_accuracy: 0.7778\n",
            "Epoch 13/100\n",
            "319/319 [==============================] - 1s 2ms/step - loss: 0.3912 - accuracy: 0.8244 - val_loss: 0.4211 - val_accuracy: 0.7755\n",
            "Epoch 14/100\n",
            "319/319 [==============================] - 1s 2ms/step - loss: 0.3897 - accuracy: 0.8227 - val_loss: 0.4630 - val_accuracy: 0.7606\n",
            "Epoch 15/100\n",
            "319/319 [==============================] - 1s 2ms/step - loss: 0.3882 - accuracy: 0.8240 - val_loss: 0.4354 - val_accuracy: 0.7719\n",
            "Epoch 16/100\n",
            "319/319 [==============================] - 1s 2ms/step - loss: 0.3862 - accuracy: 0.8240 - val_loss: 0.4266 - val_accuracy: 0.7743\n",
            "Epoch 17/100\n",
            "319/319 [==============================] - 1s 2ms/step - loss: 0.3859 - accuracy: 0.8265 - val_loss: 0.4984 - val_accuracy: 0.7343\n",
            "Epoch 18/100\n",
            "319/319 [==============================] - 1s 2ms/step - loss: 0.3855 - accuracy: 0.8232 - val_loss: 0.3843 - val_accuracy: 0.8076\n",
            "Epoch 19/100\n",
            "319/319 [==============================] - 1s 2ms/step - loss: 0.3857 - accuracy: 0.8259 - val_loss: 0.4635 - val_accuracy: 0.7469\n",
            "Epoch 20/100\n",
            "319/319 [==============================] - 1s 2ms/step - loss: 0.3841 - accuracy: 0.8255 - val_loss: 0.3987 - val_accuracy: 0.8005\n",
            "Epoch 21/100\n",
            "319/319 [==============================] - 1s 2ms/step - loss: 0.3839 - accuracy: 0.8271 - val_loss: 0.4038 - val_accuracy: 0.7884\n",
            "Epoch 22/100\n",
            "319/319 [==============================] - 1s 2ms/step - loss: 0.3838 - accuracy: 0.8262 - val_loss: 0.4412 - val_accuracy: 0.7653\n",
            "Epoch 23/100\n",
            "319/319 [==============================] - 1s 2ms/step - loss: 0.3827 - accuracy: 0.8262 - val_loss: 0.4055 - val_accuracy: 0.7872\n",
            "Epoch 24/100\n",
            "319/319 [==============================] - 1s 2ms/step - loss: 0.3828 - accuracy: 0.8270 - val_loss: 0.4772 - val_accuracy: 0.7441\n",
            "Epoch 25/100\n",
            "319/319 [==============================] - 1s 2ms/step - loss: 0.3810 - accuracy: 0.8287 - val_loss: 0.5199 - val_accuracy: 0.7214\n",
            "Epoch 26/100\n",
            "319/319 [==============================] - 1s 2ms/step - loss: 0.3815 - accuracy: 0.8295 - val_loss: 0.4775 - val_accuracy: 0.7457\n",
            "Epoch 27/100\n",
            "319/319 [==============================] - 1s 2ms/step - loss: 0.3813 - accuracy: 0.8294 - val_loss: 0.5554 - val_accuracy: 0.6959\n",
            "Epoch 28/100\n",
            "319/319 [==============================] - 1s 2ms/step - loss: 0.3800 - accuracy: 0.8283 - val_loss: 0.3903 - val_accuracy: 0.7962\n",
            "Epoch 29/100\n",
            "319/319 [==============================] - 1s 2ms/step - loss: 0.3792 - accuracy: 0.8292 - val_loss: 0.4336 - val_accuracy: 0.7766\n",
            "Epoch 30/100\n",
            "319/319 [==============================] - 1s 2ms/step - loss: 0.3792 - accuracy: 0.8303 - val_loss: 0.4487 - val_accuracy: 0.7676\n",
            "Epoch 31/100\n",
            "319/319 [==============================] - 1s 2ms/step - loss: 0.3786 - accuracy: 0.8303 - val_loss: 0.5404 - val_accuracy: 0.7092\n",
            "Epoch 32/100\n",
            "319/319 [==============================] - 1s 2ms/step - loss: 0.3794 - accuracy: 0.8314 - val_loss: 0.4414 - val_accuracy: 0.7735\n",
            "Epoch 33/100\n",
            "319/319 [==============================] - 1s 2ms/step - loss: 0.3779 - accuracy: 0.8288 - val_loss: 0.4008 - val_accuracy: 0.7970\n",
            "Epoch 34/100\n",
            "319/319 [==============================] - 1s 2ms/step - loss: 0.3787 - accuracy: 0.8288 - val_loss: 0.4500 - val_accuracy: 0.7665\n",
            "Epoch 35/100\n",
            "319/319 [==============================] - 1s 2ms/step - loss: 0.3776 - accuracy: 0.8304 - val_loss: 0.4392 - val_accuracy: 0.7680\n",
            "Epoch 36/100\n",
            "319/319 [==============================] - 1s 2ms/step - loss: 0.3770 - accuracy: 0.8301 - val_loss: 0.4384 - val_accuracy: 0.7755\n",
            "Epoch 37/100\n",
            "319/319 [==============================] - 1s 2ms/step - loss: 0.3763 - accuracy: 0.8323 - val_loss: 0.4370 - val_accuracy: 0.7778\n",
            "Epoch 38/100\n",
            "319/319 [==============================] - 1s 2ms/step - loss: 0.3773 - accuracy: 0.8296 - val_loss: 0.4465 - val_accuracy: 0.7621\n",
            "Epoch 39/100\n",
            "319/319 [==============================] - 1s 2ms/step - loss: 0.3771 - accuracy: 0.8292 - val_loss: 0.4436 - val_accuracy: 0.7727\n",
            "Epoch 40/100\n",
            "319/319 [==============================] - 1s 2ms/step - loss: 0.3755 - accuracy: 0.8319 - val_loss: 0.4329 - val_accuracy: 0.7782\n",
            "Epoch 41/100\n",
            "319/319 [==============================] - 1s 2ms/step - loss: 0.3759 - accuracy: 0.8315 - val_loss: 0.4581 - val_accuracy: 0.7637\n",
            "Epoch 42/100\n",
            "319/319 [==============================] - 1s 2ms/step - loss: 0.3748 - accuracy: 0.8307 - val_loss: 0.4506 - val_accuracy: 0.7712\n",
            "Epoch 43/100\n",
            "319/319 [==============================] - 1s 2ms/step - loss: 0.3757 - accuracy: 0.8309 - val_loss: 0.4726 - val_accuracy: 0.7547\n",
            "Epoch 44/100\n",
            "319/319 [==============================] - 1s 2ms/step - loss: 0.3741 - accuracy: 0.8315 - val_loss: 0.3486 - val_accuracy: 0.8272\n",
            "Epoch 45/100\n",
            "319/319 [==============================] - 1s 2ms/step - loss: 0.3739 - accuracy: 0.8310 - val_loss: 0.4123 - val_accuracy: 0.7892\n",
            "Epoch 46/100\n",
            "319/319 [==============================] - 1s 2ms/step - loss: 0.3737 - accuracy: 0.8325 - val_loss: 0.3858 - val_accuracy: 0.8060\n",
            "Epoch 47/100\n",
            "319/319 [==============================] - 1s 2ms/step - loss: 0.3734 - accuracy: 0.8318 - val_loss: 0.4222 - val_accuracy: 0.7849\n",
            "Epoch 48/100\n",
            "319/319 [==============================] - 1s 2ms/step - loss: 0.3729 - accuracy: 0.8331 - val_loss: 0.3322 - val_accuracy: 0.8339\n",
            "Epoch 49/100\n",
            "319/319 [==============================] - 1s 2ms/step - loss: 0.3725 - accuracy: 0.8328 - val_loss: 0.4164 - val_accuracy: 0.7884\n",
            "Epoch 50/100\n",
            "319/319 [==============================] - 1s 2ms/step - loss: 0.3725 - accuracy: 0.8328 - val_loss: 0.4488 - val_accuracy: 0.7680\n",
            "Epoch 51/100\n",
            "319/319 [==============================] - 1s 2ms/step - loss: 0.3715 - accuracy: 0.8327 - val_loss: 0.4754 - val_accuracy: 0.7555\n",
            "Epoch 52/100\n",
            "319/319 [==============================] - 1s 2ms/step - loss: 0.3720 - accuracy: 0.8293 - val_loss: 0.4086 - val_accuracy: 0.7919\n",
            "Epoch 53/100\n",
            "319/319 [==============================] - 1s 2ms/step - loss: 0.3718 - accuracy: 0.8328 - val_loss: 0.4539 - val_accuracy: 0.7708\n",
            "Epoch 54/100\n",
            "319/319 [==============================] - 1s 2ms/step - loss: 0.3717 - accuracy: 0.8320 - val_loss: 0.4468 - val_accuracy: 0.7739\n",
            "Epoch 55/100\n",
            "319/319 [==============================] - 1s 2ms/step - loss: 0.3715 - accuracy: 0.8309 - val_loss: 0.4231 - val_accuracy: 0.7888\n",
            "Epoch 56/100\n",
            "319/319 [==============================] - 1s 2ms/step - loss: 0.3700 - accuracy: 0.8336 - val_loss: 0.4411 - val_accuracy: 0.7751\n",
            "Epoch 57/100\n",
            "319/319 [==============================] - 1s 2ms/step - loss: 0.3703 - accuracy: 0.8307 - val_loss: 0.4592 - val_accuracy: 0.7676\n",
            "Epoch 58/100\n",
            "319/319 [==============================] - 1s 2ms/step - loss: 0.3707 - accuracy: 0.8315 - val_loss: 0.4543 - val_accuracy: 0.7645\n",
            "Epoch 59/100\n",
            "319/319 [==============================] - 1s 2ms/step - loss: 0.3707 - accuracy: 0.8328 - val_loss: 0.4953 - val_accuracy: 0.7410\n",
            "Epoch 60/100\n",
            "319/319 [==============================] - 1s 2ms/step - loss: 0.3705 - accuracy: 0.8326 - val_loss: 0.4524 - val_accuracy: 0.7696\n",
            "Epoch 61/100\n",
            "319/319 [==============================] - 1s 3ms/step - loss: 0.3709 - accuracy: 0.8324 - val_loss: 0.4380 - val_accuracy: 0.7837\n",
            "Epoch 62/100\n",
            "319/319 [==============================] - 1s 3ms/step - loss: 0.3689 - accuracy: 0.8344 - val_loss: 0.4429 - val_accuracy: 0.7739\n",
            "Epoch 63/100\n",
            "319/319 [==============================] - 1s 2ms/step - loss: 0.3692 - accuracy: 0.8329 - val_loss: 0.4298 - val_accuracy: 0.7821\n",
            "Epoch 64/100\n",
            "319/319 [==============================] - 1s 2ms/step - loss: 0.3698 - accuracy: 0.8345 - val_loss: 0.3712 - val_accuracy: 0.8147\n",
            "Epoch 65/100\n",
            "319/319 [==============================] - 1s 2ms/step - loss: 0.3695 - accuracy: 0.8347 - val_loss: 0.3997 - val_accuracy: 0.8021\n",
            "Epoch 66/100\n",
            "319/319 [==============================] - 1s 2ms/step - loss: 0.3692 - accuracy: 0.8344 - val_loss: 0.4841 - val_accuracy: 0.7453\n",
            "Epoch 67/100\n",
            "319/319 [==============================] - 1s 2ms/step - loss: 0.3684 - accuracy: 0.8322 - val_loss: 0.4148 - val_accuracy: 0.7876\n",
            "Epoch 68/100\n",
            "319/319 [==============================] - 1s 2ms/step - loss: 0.3695 - accuracy: 0.8332 - val_loss: 0.4205 - val_accuracy: 0.7911\n",
            "Epoch 69/100\n",
            "319/319 [==============================] - 1s 2ms/step - loss: 0.3684 - accuracy: 0.8338 - val_loss: 0.4346 - val_accuracy: 0.7770\n",
            "Epoch 70/100\n",
            "319/319 [==============================] - 1s 3ms/step - loss: 0.3682 - accuracy: 0.8350 - val_loss: 0.3855 - val_accuracy: 0.8084\n",
            "Epoch 71/100\n",
            "319/319 [==============================] - 1s 4ms/step - loss: 0.3686 - accuracy: 0.8342 - val_loss: 0.3816 - val_accuracy: 0.8092\n",
            "Epoch 72/100\n",
            "319/319 [==============================] - 1s 2ms/step - loss: 0.3673 - accuracy: 0.8319 - val_loss: 0.3390 - val_accuracy: 0.8382\n",
            "Epoch 73/100\n",
            "319/319 [==============================] - 1s 2ms/step - loss: 0.3676 - accuracy: 0.8351 - val_loss: 0.4581 - val_accuracy: 0.7719\n",
            "Epoch 74/100\n",
            "319/319 [==============================] - 1s 2ms/step - loss: 0.3674 - accuracy: 0.8327 - val_loss: 0.4418 - val_accuracy: 0.7770\n",
            "Epoch 75/100\n",
            "319/319 [==============================] - 1s 2ms/step - loss: 0.3678 - accuracy: 0.8333 - val_loss: 0.4703 - val_accuracy: 0.7547\n",
            "Epoch 76/100\n",
            "319/319 [==============================] - 1s 2ms/step - loss: 0.3687 - accuracy: 0.8340 - val_loss: 0.4547 - val_accuracy: 0.7700\n",
            "Epoch 77/100\n",
            "319/319 [==============================] - 1s 2ms/step - loss: 0.3667 - accuracy: 0.8336 - val_loss: 0.3918 - val_accuracy: 0.8064\n",
            "Epoch 78/100\n",
            "319/319 [==============================] - 1s 2ms/step - loss: 0.3679 - accuracy: 0.8339 - val_loss: 0.5255 - val_accuracy: 0.7304\n",
            "Epoch 79/100\n",
            "319/319 [==============================] - 1s 2ms/step - loss: 0.3673 - accuracy: 0.8344 - val_loss: 0.4357 - val_accuracy: 0.7837\n",
            "Epoch 80/100\n",
            "319/319 [==============================] - 1s 2ms/step - loss: 0.3665 - accuracy: 0.8326 - val_loss: 0.4323 - val_accuracy: 0.7806\n",
            "Epoch 81/100\n",
            "319/319 [==============================] - 1s 2ms/step - loss: 0.3665 - accuracy: 0.8335 - val_loss: 0.3614 - val_accuracy: 0.8237\n",
            "Epoch 82/100\n",
            "319/319 [==============================] - 1s 2ms/step - loss: 0.3675 - accuracy: 0.8341 - val_loss: 0.3961 - val_accuracy: 0.8021\n",
            "Epoch 83/100\n",
            "319/319 [==============================] - 1s 2ms/step - loss: 0.3661 - accuracy: 0.8343 - val_loss: 0.3803 - val_accuracy: 0.8072\n",
            "Epoch 84/100\n",
            "319/319 [==============================] - 1s 4ms/step - loss: 0.3660 - accuracy: 0.8357 - val_loss: 0.4007 - val_accuracy: 0.7962\n",
            "Epoch 85/100\n",
            "319/319 [==============================] - 1s 2ms/step - loss: 0.3662 - accuracy: 0.8343 - val_loss: 0.4397 - val_accuracy: 0.7763\n",
            "Epoch 86/100\n",
            "319/319 [==============================] - 1s 2ms/step - loss: 0.3656 - accuracy: 0.8339 - val_loss: 0.4672 - val_accuracy: 0.7625\n",
            "Epoch 87/100\n",
            "319/319 [==============================] - 1s 2ms/step - loss: 0.3662 - accuracy: 0.8334 - val_loss: 0.4167 - val_accuracy: 0.7892\n",
            "Epoch 88/100\n",
            "319/319 [==============================] - 1s 2ms/step - loss: 0.3659 - accuracy: 0.8340 - val_loss: 0.3832 - val_accuracy: 0.8107\n",
            "Epoch 89/100\n",
            "319/319 [==============================] - 1s 2ms/step - loss: 0.3660 - accuracy: 0.8317 - val_loss: 0.4347 - val_accuracy: 0.7747\n",
            "Epoch 90/100\n",
            "319/319 [==============================] - 1s 2ms/step - loss: 0.3651 - accuracy: 0.8335 - val_loss: 0.4160 - val_accuracy: 0.7904\n",
            "Epoch 91/100\n",
            "319/319 [==============================] - 1s 2ms/step - loss: 0.3655 - accuracy: 0.8356 - val_loss: 0.4381 - val_accuracy: 0.7798\n",
            "Epoch 92/100\n",
            "319/319 [==============================] - 1s 2ms/step - loss: 0.3651 - accuracy: 0.8339 - val_loss: 0.4412 - val_accuracy: 0.7759\n",
            "Epoch 93/100\n",
            "319/319 [==============================] - 1s 2ms/step - loss: 0.3648 - accuracy: 0.8334 - val_loss: 0.4418 - val_accuracy: 0.7833\n",
            "Epoch 94/100\n",
            "319/319 [==============================] - 1s 2ms/step - loss: 0.3639 - accuracy: 0.8349 - val_loss: 0.3989 - val_accuracy: 0.8013\n",
            "Epoch 95/100\n",
            "319/319 [==============================] - 1s 2ms/step - loss: 0.3649 - accuracy: 0.8345 - val_loss: 0.4807 - val_accuracy: 0.7504\n",
            "Epoch 96/100\n",
            "319/319 [==============================] - 1s 2ms/step - loss: 0.3641 - accuracy: 0.8357 - val_loss: 0.4232 - val_accuracy: 0.7935\n",
            "Epoch 97/100\n",
            "319/319 [==============================] - 1s 2ms/step - loss: 0.3652 - accuracy: 0.8337 - val_loss: 0.4469 - val_accuracy: 0.7751\n",
            "Epoch 98/100\n",
            "319/319 [==============================] - 1s 2ms/step - loss: 0.3645 - accuracy: 0.8343 - val_loss: 0.3997 - val_accuracy: 0.7974\n",
            "Epoch 99/100\n",
            "319/319 [==============================] - 1s 2ms/step - loss: 0.3642 - accuracy: 0.8351 - val_loss: 0.4649 - val_accuracy: 0.7641\n",
            "Epoch 100/100\n",
            "319/319 [==============================] - 1s 2ms/step - loss: 0.3638 - accuracy: 0.8342 - val_loss: 0.4438 - val_accuracy: 0.7849\n"
          ]
        }
      ]
    },
    {
      "cell_type": "code",
      "source": [
        "# model.layers[0].get_weights()"
      ],
      "metadata": {
        "id": "9l6We0iknByX"
      },
      "execution_count": null,
      "outputs": []
    },
    {
      "cell_type": "code",
      "source": [
        "y_log = model.predict(x_test_scaled)"
      ],
      "metadata": {
        "colab": {
          "base_uri": "https://localhost:8080/"
        },
        "id": "zpU_zUgmnSO2",
        "outputId": "69e8a385-6476-4503-8140-a6af04b53d81"
      },
      "execution_count": 22,
      "outputs": [
        {
          "output_type": "stream",
          "name": "stdout",
          "text": [
            "63/63 [==============================] - 0s 1ms/step\n"
          ]
        }
      ]
    },
    {
      "cell_type": "code",
      "source": [
        "y_pred = np.where(y_log>0.5,1,0)"
      ],
      "metadata": {
        "id": "GI1B4I0QnjQv"
      },
      "execution_count": 23,
      "outputs": []
    },
    {
      "cell_type": "code",
      "source": [
        "from sklearn.metrics import accuracy_score\n",
        "accuracy_score(y_test,y_pred)"
      ],
      "metadata": {
        "colab": {
          "base_uri": "https://localhost:8080/"
        },
        "id": "vnWQoa-Vn0CB",
        "outputId": "0a3a656a-8709-4c80-b05c-5373ad54b3f3"
      },
      "execution_count": 24,
      "outputs": [
        {
          "output_type": "execute_result",
          "data": {
            "text/plain": [
              "0.829"
            ]
          },
          "metadata": {},
          "execution_count": 24
        }
      ]
    },
    {
      "cell_type": "code",
      "source": [
        "import matplotlib.pyplot as plt"
      ],
      "metadata": {
        "id": "iZDc-iIGoEAM"
      },
      "execution_count": 25,
      "outputs": []
    },
    {
      "cell_type": "code",
      "source": [
        "plt.plot(history.history['loss'])\n",
        "plt.plot(history.history['val_loss'])"
      ],
      "metadata": {
        "colab": {
          "base_uri": "https://localhost:8080/",
          "height": 283
        },
        "id": "kiarVzqgqgbs",
        "outputId": "58d2feec-03e2-40f0-891a-9a4d5eba9023"
      },
      "execution_count": 26,
      "outputs": [
        {
          "output_type": "execute_result",
          "data": {
            "text/plain": [
              "[<matplotlib.lines.Line2D at 0x7f207a0c4550>]"
            ]
          },
          "metadata": {},
          "execution_count": 26
        },
        {
          "output_type": "display_data",
          "data": {
            "text/plain": [
              "<Figure size 432x288 with 1 Axes>"
            ],
            "image/png": "[encoded data removed]"
          },
          "metadata": {
            "needs_background": "light"
          }
        }
      ]
    },
    {
      "cell_type": "code",
      "source": [
        "plt.plot(history.history['accuracy'])\n",
        "plt.plot(history.history['val_accuracy'])"
      ],
      "metadata": {
        "colab": {
          "base_uri": "https://localhost:8080/",
          "height": 283
        },
        "id": "gDUAa7cOrH99",
        "outputId": "7f5f6bf3-d951-4f4c-d5ef-7a63e7fb3e2c"
      },
      "execution_count": 27,
      "outputs": [
        {
          "output_type": "execute_result",
          "data": {
            "text/plain": [
              "[<matplotlib.lines.Line2D at 0x7f207a03b640>]"
            ]
          },
          "metadata": {},
          "execution_count": 27
        },
        {
          "output_type": "display_data",
          "data": {
            "text/plain": [
              "<Figure size 432x288 with 1 Axes>"
            ],
            "image/png": "[encoded data removed]"
          },
          "metadata": {
            "needs_background": "light"
          }
        }
      ]
    },
    {
      "cell_type": "code",
      "source": [],
      "metadata": {
        "id": "rm8mjp7BrWF6"
      },
      "execution_count": null,
      "outputs": []
    }
  ]
}