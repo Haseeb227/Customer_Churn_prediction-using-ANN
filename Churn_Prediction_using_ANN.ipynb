{
  "nbformat": 4,
  "nbformat_minor": 0,
  "metadata": {
    "colab": {
      "provenance": [],
      "authorship_tag": "ABX9TyN2zRhb04c41oIhWNDDacpe",
      "include_colab_link": true
    },
    "kernelspec": {
      "name": "python3",
      "display_name": "Python 3"
    },
    "language_info": {
      "name": "python"
    }
  },
  "cells": [
    {
      "cell_type": "markdown",
      "metadata": {
        "id": "view-in-github",
        "colab_type": "text"
      },
      "source": [
        "<a href=\"https://colab.research.google.com/github/Haseeb227/Customer_Churn_prediction-using-ANN/blob/main/Churn_Prediction_using_ANN.ipynb\" target=\"_parent\"><img src=\"https://colab.research.google.com/assets/colab-badge.svg\" alt=\"Open In Colab\"/></a>"
      ]
    },
    {
      "cell_type": "code",
      "execution_count": 1,
      "metadata": {
        "id": "H1GmdkQmhA9o"
      },
      "outputs": [],
      "source": [
        "!pip install -q keras"
      ]
    },
    {
      "cell_type": "code",
      "source": [
        "!pip install tensorflow"
      ],
      "metadata": {
        "id": "CDkpxODrh6Ov"
      },
      "execution_count": null,
      "outputs": []
    },
    {
      "cell_type": "code",
      "source": [
        "import pandas as pd\n",
        "import numpy as np\n",
        "import tensorflow\n",
        "from tensorflow import keras\n",
        "from tensorflow.keras import Sequential\n",
        "from tensorflow.keras.layers import Dense,Flatten"
      ],
      "metadata": {
        "id": "vL-v6jHKhP7E"
      },
      "execution_count": 1,
      "outputs": []
    },
    {
      "cell_type": "code",
      "source": [
        "from google.colab import drive\n",
        "drive.mount('/content/drive/')"
      ],
      "metadata": {
        "colab": {
          "base_uri": "https://localhost:8080/"
        },
        "id": "Y6xQy7CmhtTK",
        "outputId": "638c8ddb-1f86-421b-b723-0ecbdd2547da"
      },
      "execution_count": 2,
      "outputs": [
        {
          "output_type": "stream",
          "name": "stdout",
          "text": [
            "Mounted at /content/drive/\n"
          ]
        }
      ]
    },
    {
      "cell_type": "code",
      "source": [
        "df = pd.read_csv('/content/drive/MyDrive/ML Practice/Churn_Modelling.csv',encoding='latin-1')"
      ],
      "metadata": {
        "id": "Qq_VAU6PiDhC"
      },
      "execution_count": 3,
      "outputs": []
    },
    {
      "cell_type": "code",
      "source": [
        "df.head()"
      ],
      "metadata": {
        "colab": {
          "base_uri": "https://localhost:8080/",
          "height": 206
        },
        "id": "PnTPmVj_i2Wm",
        "outputId": "60936237-7848-4a8f-f48d-149e1b0ec572"
      },
      "execution_count": 4,
      "outputs": [
        {
          "output_type": "execute_result",
          "data": {
            "text/plain": [
              "   RowNumber  CustomerId   Surname  CreditScore Geography  Gender  Age  \\\n",
              "0          1    15634602  Hargrave          619    France  Female   42   \n",
              "1          2    15647311      Hill          608     Spain  Female   41   \n",
              "2          3    15619304      Onio          502    France  Female   42   \n",
              "3          4    15701354      Boni          699    France  Female   39   \n",
              "4          5    15737888  Mitchell          850     Spain  Female   43   \n",
              "\n",
              "   Tenure    Balance  NumOfProducts  HasCrCard  IsActiveMember  \\\n",
              "0       2       0.00              1          1               1   \n",
              "1       1   83807.86              1          0               1   \n",
              "2       8  159660.80              3          1               0   \n",
              "3       1       0.00              2          0               0   \n",
              "4       2  125510.82              1          1               1   \n",
              "\n",
              "   EstimatedSalary  Exited  \n",
              "0        101348.88       1  \n",
              "1        112542.58       0  \n",
              "2        113931.57       1  \n",
              "3         93826.63       0  \n",
              "4         79084.10       0  "
            ],
            "text/html": [
              "\n",
              "  <div id=\"df-65872a83-6c33-463a-a176-b399b6dffa8f\">\n",
              "    <div class=\"colab-df-container\">\n",
              "      <div>\n",
              "<style scoped>\n",
              "    .dataframe tbody tr th:only-of-type {\n",
              "        vertical-align: middle;\n",
              "    }\n",
              "\n",
              "    .dataframe tbody tr th {\n",
              "        vertical-align: top;\n",
              "    }\n",
              "\n",
              "    .dataframe thead th {\n",
              "        text-align: right;\n",
              "    }\n",
              "</style>\n",
              "<table border=\"1\" class=\"dataframe\">\n",
              "  <thead>\n",
              "    <tr style=\"text-align: right;\">\n",
              "      <th></th>\n",
              "      <th>RowNumber</th>\n",
              "      <th>CustomerId</th>\n",
              "      <th>Surname</th>\n",
              "      <th>CreditScore</th>\n",
              "      <th>Geography</th>\n",
              "      <th>Gender</th>\n",
              "      <th>Age</th>\n",
              "      <th>Tenure</th>\n",
              "      <th>Balance</th>\n",
              "      <th>NumOfProducts</th>\n",
              "      <th>HasCrCard</th>\n",
              "      <th>IsActiveMember</th>\n",
              "      <th>EstimatedSalary</th>\n",
              "      <th>Exited</th>\n",
              "    </tr>\n",
              "  </thead>\n",
              "  <tbody>\n",
              "    <tr>\n",
              "      <th>0</th>\n",
              "      <td>1</td>\n",
              "      <td>15634602</td>\n",
              "      <td>Hargrave</td>\n",
              "      <td>619</td>\n",
              "      <td>France</td>\n",
              "      <td>Female</td>\n",
              "      <td>42</td>\n",
              "      <td>2</td>\n",
              "      <td>0.00</td>\n",
              "      <td>1</td>\n",
              "      <td>1</td>\n",
              "      <td>1</td>\n",
              "      <td>101348.88</td>\n",
              "      <td>1</td>\n",
              "    </tr>\n",
              "    <tr>\n",
              "      <th>1</th>\n",
              "      <td>2</td>\n",
              "      <td>15647311</td>\n",
              "      <td>Hill</td>\n",
              "      <td>608</td>\n",
              "      <td>Spain</td>\n",
              "      <td>Female</td>\n",
              "      <td>41</td>\n",
              "      <td>1</td>\n",
              "      <td>83807.86</td>\n",
              "      <td>1</td>\n",
              "      <td>0</td>\n",
              "      <td>1</td>\n",
              "      <td>112542.58</td>\n",
              "      <td>0</td>\n",
              "    </tr>\n",
              "    <tr>\n",
              "      <th>2</th>\n",
              "      <td>3</td>\n",
              "      <td>15619304</td>\n",
              "      <td>Onio</td>\n",
              "      <td>502</td>\n",
              "      <td>France</td>\n",
              "      <td>Female</td>\n",
              "      <td>42</td>\n",
              "      <td>8</td>\n",
              "      <td>159660.80</td>\n",
              "      <td>3</td>\n",
              "      <td>1</td>\n",
              "      <td>0</td>\n",
              "      <td>113931.57</td>\n",
              "      <td>1</td>\n",
              "    </tr>\n",
              "    <tr>\n",
              "      <th>3</th>\n",
              "      <td>4</td>\n",
              "      <td>15701354</td>\n",
              "      <td>Boni</td>\n",
              "      <td>699</td>\n",
              "      <td>France</td>\n",
              "      <td>Female</td>\n",
              "      <td>39</td>\n",
              "      <td>1</td>\n",
              "      <td>0.00</td>\n",
              "      <td>2</td>\n",
              "      <td>0</td>\n",
              "      <td>0</td>\n",
              "      <td>93826.63</td>\n",
              "      <td>0</td>\n",
              "    </tr>\n",
              "    <tr>\n",
              "      <th>4</th>\n",
              "      <td>5</td>\n",
              "      <td>15737888</td>\n",
              "      <td>Mitchell</td>\n",
              "      <td>850</td>\n",
              "      <td>Spain</td>\n",
              "      <td>Female</td>\n",
              "      <td>43</td>\n",
              "      <td>2</td>\n",
              "      <td>125510.82</td>\n",
              "      <td>1</td>\n",
              "      <td>1</td>\n",
              "      <td>1</td>\n",
              "      <td>79084.10</td>\n",
              "      <td>0</td>\n",
              "    </tr>\n",
              "  </tbody>\n",
              "</table>\n",
              "</div>\n",
              "      <button class=\"colab-df-convert\" onclick=\"convertToInteractive('df-65872a83-6c33-463a-a176-b399b6dffa8f')\"\n",
              "              title=\"Convert this dataframe to an interactive table.\"\n",
              "              style=\"display:none;\">\n",
              "        \n",
              "  <svg xmlns=\"http://www.w3.org/2000/svg\" height=\"24px\"viewBox=\"0 0 24 24\"\n",
              "       width=\"24px\">\n",
              "    <path d=\"M0 0h24v24H0V0z\" fill=\"none\"/>\n",
              "    <path d=\"M18.56 5.44l.94 2.06.94-2.06 2.06-.94-2.06-.94-.94-2.06-.94 2.06-2.06.94zm-11 1L8.5 8.5l.94-2.06 2.06-.94-2.06-.94L8.5 2.5l-.94 2.06-2.06.94zm10 10l.94 2.06.94-2.06 2.06-.94-2.06-.94-.94-2.06-.94 2.06-2.06.94z\"/><path d=\"M17.41 7.96l-1.37-1.37c-.4-.4-.92-.59-1.43-.59-.52 0-1.04.2-1.43.59L10.3 9.45l-7.72 7.72c-.78.78-.78 2.05 0 2.83L4 21.41c.39.39.9.59 1.41.59.51 0 1.02-.2 1.41-.59l7.78-7.78 2.81-2.81c.8-.78.8-2.07 0-2.86zM5.41 20L4 18.59l7.72-7.72 1.47 1.35L5.41 20z\"/>\n",
              "  </svg>\n",
              "      </button>\n",
              "      \n",
              "  <style>\n",
              "    .colab-df-container {\n",
              "      display:flex;\n",
              "      flex-wrap:wrap;\n",
              "      gap: 12px;\n",
              "    }\n",
              "\n",
              "    .colab-df-convert {\n",
              "      background-color: #E8F0FE;\n",
              "      border: none;\n",
              "      border-radius: 50%;\n",
              "      cursor: pointer;\n",
              "      display: none;\n",
              "      fill: #1967D2;\n",
              "      height: 32px;\n",
              "      padding: 0 0 0 0;\n",
              "      width: 32px;\n",
              "    }\n",
              "\n",
              "    .colab-df-convert:hover {\n",
              "      background-color: #E2EBFA;\n",
              "      box-shadow: 0px 1px 2px rgba(60, 64, 67, 0.3), 0px 1px 3px 1px rgba(60, 64, 67, 0.15);\n",
              "      fill: #174EA6;\n",
              "    }\n",
              "\n",
              "    [theme=dark] .colab-df-convert {\n",
              "      background-color: #3B4455;\n",
              "      fill: #D2E3FC;\n",
              "    }\n",
              "\n",
              "    [theme=dark] .colab-df-convert:hover {\n",
              "      background-color: #434B5C;\n",
              "      box-shadow: 0px 1px 3px 1px rgba(0, 0, 0, 0.15);\n",
              "      filter: drop-shadow(0px 1px 2px rgba(0, 0, 0, 0.3));\n",
              "      fill: #FFFFFF;\n",
              "    }\n",
              "  </style>\n",
              "\n",
              "      <script>\n",
              "        const buttonEl =\n",
              "          document.querySelector('#df-65872a83-6c33-463a-a176-b399b6dffa8f button.colab-df-convert');\n",
              "        buttonEl.style.display =\n",
              "          google.colab.kernel.accessAllowed ? 'block' : 'none';\n",
              "\n",
              "        async function convertToInteractive(key) {\n",
              "          const element = document.querySelector('#df-65872a83-6c33-463a-a176-b399b6dffa8f');\n",
              "          const dataTable =\n",
              "            await google.colab.kernel.invokeFunction('convertToInteractive',\n",
              "                                                     [key], {});\n",
              "          if (!dataTable) return;\n",
              "\n",
              "          const docLinkHtml = 'Like what you see? Visit the ' +\n",
              "            '<a target=\"_blank\" href=https://colab.research.google.com/notebooks/data_table.ipynb>data table notebook</a>'\n",
              "            + ' to learn more about interactive tables.';\n",
              "          element.innerHTML = '';\n",
              "          dataTable['output_type'] = 'display_data';\n",
              "          await google.colab.output.renderOutput(dataTable, element);\n",
              "          const docLink = document.createElement('div');\n",
              "          docLink.innerHTML = docLinkHtml;\n",
              "          element.appendChild(docLink);\n",
              "        }\n",
              "      </script>\n",
              "    </div>\n",
              "  </div>\n",
              "  "
            ]
          },
          "metadata": {},
          "execution_count": 4
        }
      ]
    },
    {
      "cell_type": "code",
      "source": [
        "df.columns"
      ],
      "metadata": {
        "colab": {
          "base_uri": "https://localhost:8080/"
        },
        "id": "-iQ2YAU3i309",
        "outputId": "e7a0680f-c8c3-4dee-934a-a77b4187050c"
      },
      "execution_count": 5,
      "outputs": [
        {
          "output_type": "execute_result",
          "data": {
            "text/plain": [
              "Index(['RowNumber', 'CustomerId', 'Surname', 'CreditScore', 'Geography',\n",
              "       'Gender', 'Age', 'Tenure', 'Balance', 'NumOfProducts', 'HasCrCard',\n",
              "       'IsActiveMember', 'EstimatedSalary', 'Exited'],\n",
              "      dtype='object')"
            ]
          },
          "metadata": {},
          "execution_count": 5
        }
      ]
    },
    {
      "cell_type": "code",
      "source": [
        "df['Geography'].value_counts()"
      ],
      "metadata": {
        "colab": {
          "base_uri": "https://localhost:8080/"
        },
        "id": "-WPfIzkMjHeW",
        "outputId": "1303119e-a4ea-4f2f-b64c-95d1b262b3c3"
      },
      "execution_count": 7,
      "outputs": [
        {
          "output_type": "execute_result",
          "data": {
            "text/plain": [
              "France     5014\n",
              "Germany    2509\n",
              "Spain      2477\n",
              "Name: Geography, dtype: int64"
            ]
          },
          "metadata": {},
          "execution_count": 7
        }
      ]
    },
    {
      "cell_type": "code",
      "source": [
        "df['Gender'].value_counts()"
      ],
      "metadata": {
        "colab": {
          "base_uri": "https://localhost:8080/"
        },
        "id": "YGGNxGrQjMdG",
        "outputId": "f8d74b66-6d35-419c-b024-bc92bfb6ef18"
      },
      "execution_count": 9,
      "outputs": [
        {
          "output_type": "execute_result",
          "data": {
            "text/plain": [
              "Male      5457\n",
              "Female    4543\n",
              "Name: Gender, dtype: int64"
            ]
          },
          "metadata": {},
          "execution_count": 9
        }
      ]
    },
    {
      "cell_type": "code",
      "source": [
        "df.drop(columns=['RowNumber','CustomerId','Surname'],inplace=True)"
      ],
      "metadata": {
        "id": "eMPCrP0vjbc3"
      },
      "execution_count": 11,
      "outputs": []
    },
    {
      "cell_type": "code",
      "source": [
        "df.head()"
      ],
      "metadata": {
        "colab": {
          "base_uri": "https://localhost:8080/",
          "height": 206
        },
        "id": "Ki5YSXdhjkh9",
        "outputId": "a32929fb-3394-4489-cc40-ce53d11e1d2c"
      },
      "execution_count": 12,
      "outputs": [
        {
          "output_type": "execute_result",
          "data": {
            "text/plain": [
              "   CreditScore Geography  Gender  Age  Tenure    Balance  NumOfProducts  \\\n",
              "0          619    France  Female   42       2       0.00              1   \n",
              "1          608     Spain  Female   41       1   83807.86              1   \n",
              "2          502    France  Female   42       8  159660.80              3   \n",
              "3          699    France  Female   39       1       0.00              2   \n",
              "4          850     Spain  Female   43       2  125510.82              1   \n",
              "\n",
              "   HasCrCard  IsActiveMember  EstimatedSalary  Exited  \n",
              "0          1               1        101348.88       1  \n",
              "1          0               1        112542.58       0  \n",
              "2          1               0        113931.57       1  \n",
              "3          0               0         93826.63       0  \n",
              "4          1               1         79084.10       0  "
            ],
            "text/html": [
              "\n",
              "  <div id=\"df-6d586f76-c1d5-4177-9aac-0e9ae4ddf3f4\">\n",
              "    <div class=\"colab-df-container\">\n",
              "      <div>\n",
              "<style scoped>\n",
              "    .dataframe tbody tr th:only-of-type {\n",
              "        vertical-align: middle;\n",
              "    }\n",
              "\n",
              "    .dataframe tbody tr th {\n",
              "        vertical-align: top;\n",
              "    }\n",
              "\n",
              "    .dataframe thead th {\n",
              "        text-align: right;\n",
              "    }\n",
              "</style>\n",
              "<table border=\"1\" class=\"dataframe\">\n",
              "  <thead>\n",
              "    <tr style=\"text-align: right;\">\n",
              "      <th></th>\n",
              "      <th>CreditScore</th>\n",
              "      <th>Geography</th>\n",
              "      <th>Gender</th>\n",
              "      <th>Age</th>\n",
              "      <th>Tenure</th>\n",
              "      <th>Balance</th>\n",
              "      <th>NumOfProducts</th>\n",
              "      <th>HasCrCard</th>\n",
              "      <th>IsActiveMember</th>\n",
              "      <th>EstimatedSalary</th>\n",
              "      <th>Exited</th>\n",
              "    </tr>\n",
              "  </thead>\n",
              "  <tbody>\n",
              "    <tr>\n",
              "      <th>0</th>\n",
              "      <td>619</td>\n",
              "      <td>France</td>\n",
              "      <td>Female</td>\n",
              "      <td>42</td>\n",
              "      <td>2</td>\n",
              "      <td>0.00</td>\n",
              "      <td>1</td>\n",
              "      <td>1</td>\n",
              "      <td>1</td>\n",
              "      <td>101348.88</td>\n",
              "      <td>1</td>\n",
              "    </tr>\n",
              "    <tr>\n",
              "      <th>1</th>\n",
              "      <td>608</td>\n",
              "      <td>Spain</td>\n",
              "      <td>Female</td>\n",
              "      <td>41</td>\n",
              "      <td>1</td>\n",
              "      <td>83807.86</td>\n",
              "      <td>1</td>\n",
              "      <td>0</td>\n",
              "      <td>1</td>\n",
              "      <td>112542.58</td>\n",
              "      <td>0</td>\n",
              "    </tr>\n",
              "    <tr>\n",
              "      <th>2</th>\n",
              "      <td>502</td>\n",
              "      <td>France</td>\n",
              "      <td>Female</td>\n",
              "      <td>42</td>\n",
              "      <td>8</td>\n",
              "      <td>159660.80</td>\n",
              "      <td>3</td>\n",
              "      <td>1</td>\n",
              "      <td>0</td>\n",
              "      <td>113931.57</td>\n",
              "      <td>1</td>\n",
              "    </tr>\n",
              "    <tr>\n",
              "      <th>3</th>\n",
              "      <td>699</td>\n",
              "      <td>France</td>\n",
              "      <td>Female</td>\n",
              "      <td>39</td>\n",
              "      <td>1</td>\n",
              "      <td>0.00</td>\n",
              "      <td>2</td>\n",
              "      <td>0</td>\n",
              "      <td>0</td>\n",
              "      <td>93826.63</td>\n",
              "      <td>0</td>\n",
              "    </tr>\n",
              "    <tr>\n",
              "      <th>4</th>\n",
              "      <td>850</td>\n",
              "      <td>Spain</td>\n",
              "      <td>Female</td>\n",
              "      <td>43</td>\n",
              "      <td>2</td>\n",
              "      <td>125510.82</td>\n",
              "      <td>1</td>\n",
              "      <td>1</td>\n",
              "      <td>1</td>\n",
              "      <td>79084.10</td>\n",
              "      <td>0</td>\n",
              "    </tr>\n",
              "  </tbody>\n",
              "</table>\n",
              "</div>\n",
              "      <button class=\"colab-df-convert\" onclick=\"convertToInteractive('df-6d586f76-c1d5-4177-9aac-0e9ae4ddf3f4')\"\n",
              "              title=\"Convert this dataframe to an interactive table.\"\n",
              "              style=\"display:none;\">\n",
              "        \n",
              "  <svg xmlns=\"http://www.w3.org/2000/svg\" height=\"24px\"viewBox=\"0 0 24 24\"\n",
              "       width=\"24px\">\n",
              "    <path d=\"M0 0h24v24H0V0z\" fill=\"none\"/>\n",
              "    <path d=\"M18.56 5.44l.94 2.06.94-2.06 2.06-.94-2.06-.94-.94-2.06-.94 2.06-2.06.94zm-11 1L8.5 8.5l.94-2.06 2.06-.94-2.06-.94L8.5 2.5l-.94 2.06-2.06.94zm10 10l.94 2.06.94-2.06 2.06-.94-2.06-.94-.94-2.06-.94 2.06-2.06.94z\"/><path d=\"M17.41 7.96l-1.37-1.37c-.4-.4-.92-.59-1.43-.59-.52 0-1.04.2-1.43.59L10.3 9.45l-7.72 7.72c-.78.78-.78 2.05 0 2.83L4 21.41c.39.39.9.59 1.41.59.51 0 1.02-.2 1.41-.59l7.78-7.78 2.81-2.81c.8-.78.8-2.07 0-2.86zM5.41 20L4 18.59l7.72-7.72 1.47 1.35L5.41 20z\"/>\n",
              "  </svg>\n",
              "      </button>\n",
              "      \n",
              "  <style>\n",
              "    .colab-df-container {\n",
              "      display:flex;\n",
              "      flex-wrap:wrap;\n",
              "      gap: 12px;\n",
              "    }\n",
              "\n",
              "    .colab-df-convert {\n",
              "      background-color: #E8F0FE;\n",
              "      border: none;\n",
              "      border-radius: 50%;\n",
              "      cursor: pointer;\n",
              "      display: none;\n",
              "      fill: #1967D2;\n",
              "      height: 32px;\n",
              "      padding: 0 0 0 0;\n",
              "      width: 32px;\n",
              "    }\n",
              "\n",
              "    .colab-df-convert:hover {\n",
              "      background-color: #E2EBFA;\n",
              "      box-shadow: 0px 1px 2px rgba(60, 64, 67, 0.3), 0px 1px 3px 1px rgba(60, 64, 67, 0.15);\n",
              "      fill: #174EA6;\n",
              "    }\n",
              "\n",
              "    [theme=dark] .colab-df-convert {\n",
              "      background-color: #3B4455;\n",
              "      fill: #D2E3FC;\n",
              "    }\n",
              "\n",
              "    [theme=dark] .colab-df-convert:hover {\n",
              "      background-color: #434B5C;\n",
              "      box-shadow: 0px 1px 3px 1px rgba(0, 0, 0, 0.15);\n",
              "      filter: drop-shadow(0px 1px 2px rgba(0, 0, 0, 0.3));\n",
              "      fill: #FFFFFF;\n",
              "    }\n",
              "  </style>\n",
              "\n",
              "      <script>\n",
              "        const buttonEl =\n",
              "          document.querySelector('#df-6d586f76-c1d5-4177-9aac-0e9ae4ddf3f4 button.colab-df-convert');\n",
              "        buttonEl.style.display =\n",
              "          google.colab.kernel.accessAllowed ? 'block' : 'none';\n",
              "\n",
              "        async function convertToInteractive(key) {\n",
              "          const element = document.querySelector('#df-6d586f76-c1d5-4177-9aac-0e9ae4ddf3f4');\n",
              "          const dataTable =\n",
              "            await google.colab.kernel.invokeFunction('convertToInteractive',\n",
              "                                                     [key], {});\n",
              "          if (!dataTable) return;\n",
              "\n",
              "          const docLinkHtml = 'Like what you see? Visit the ' +\n",
              "            '<a target=\"_blank\" href=https://colab.research.google.com/notebooks/data_table.ipynb>data table notebook</a>'\n",
              "            + ' to learn more about interactive tables.';\n",
              "          element.innerHTML = '';\n",
              "          dataTable['output_type'] = 'display_data';\n",
              "          await google.colab.output.renderOutput(dataTable, element);\n",
              "          const docLink = document.createElement('div');\n",
              "          docLink.innerHTML = docLinkHtml;\n",
              "          element.appendChild(docLink);\n",
              "        }\n",
              "      </script>\n",
              "    </div>\n",
              "  </div>\n",
              "  "
            ]
          },
          "metadata": {},
          "execution_count": 12
        }
      ]
    },
    {
      "cell_type": "code",
      "source": [
        "df = pd.get_dummies(df,columns=['Geography','Gender'],drop_first=True)"
      ],
      "metadata": {
        "id": "hqgEAUKZjp96"
      },
      "execution_count": 18,
      "outputs": []
    },
    {
      "cell_type": "code",
      "source": [
        "x = df.drop(columns=['Exited'])\n",
        "y = df['Exited']\n",
        "from sklearn.model_selection import train_test_split\n",
        "x_train,x_test,y_train,y_test=train_test_split(x,y,test_size=0.2,random_state=1)"
      ],
      "metadata": {
        "id": "CCVOL8-Zj-Kr"
      },
      "execution_count": 19,
      "outputs": []
    },
    {
      "cell_type": "code",
      "source": [
        "x_train.shape"
      ],
      "metadata": {
        "colab": {
          "base_uri": "https://localhost:8080/"
        },
        "id": "m56rHQc4kqLQ",
        "outputId": "bdeab2d3-8532-4470-87c4-b502e7cf7d4e"
      },
      "execution_count": 20,
      "outputs": [
        {
          "output_type": "execute_result",
          "data": {
            "text/plain": [
              "(8000, 11)"
            ]
          },
          "metadata": {},
          "execution_count": 20
        }
      ]
    },
    {
      "cell_type": "code",
      "source": [
        "x_train.columns"
      ],
      "metadata": {
        "colab": {
          "base_uri": "https://localhost:8080/"
        },
        "id": "SabRJ6J9laZT",
        "outputId": "b99f2a05-8a9f-4abc-a2c3-b3d80894447b"
      },
      "execution_count": 21,
      "outputs": [
        {
          "output_type": "execute_result",
          "data": {
            "text/plain": [
              "Index(['CreditScore', 'Age', 'Tenure', 'Balance', 'NumOfProducts', 'HasCrCard',\n",
              "       'IsActiveMember', 'EstimatedSalary', 'Geography_Germany',\n",
              "       'Geography_Spain', 'Gender_Male'],\n",
              "      dtype='object')"
            ]
          },
          "metadata": {},
          "execution_count": 21
        }
      ]
    },
    {
      "cell_type": "code",
      "source": [
        "from sklearn.preprocessing import StandardScaler\n",
        "scaler = StandardScaler()\n",
        "\n",
        "x_train_scaled = scaler.fit_transform(x_train)\n",
        "x_test_scaled = scaler.transform(x_test)"
      ],
      "metadata": {
        "id": "V9iJaRmakw1J"
      },
      "execution_count": 45,
      "outputs": []
    },
    {
      "cell_type": "code",
      "source": [
        "model = Sequential()\n",
        "model.add(Dense(11,activation='relu',input_dim=11))\n",
        "model.add(Dense(11,activation='relu'))\n",
        "model.add(Dense(11,activation='relu'))\n",
        "model.add(Dense(11,activation='relu'))\n",
        "model.add(Dense(11,activation='relu'))\n",
        "model.add(Dense(1,activation='sigmoid'))"
      ],
      "metadata": {
        "id": "s-xp2V9bldcI"
      },
      "execution_count": 46,
      "outputs": []
    },
    {
      "cell_type": "code",
      "source": [
        "model.summary()"
      ],
      "metadata": {
        "colab": {
          "base_uri": "https://localhost:8080/"
        },
        "id": "cUS2LbzGlQQ2",
        "outputId": "b5fb9f2f-0dca-4f3f-9945-a9726dfb4d1e"
      },
      "execution_count": 47,
      "outputs": [
        {
          "output_type": "stream",
          "name": "stdout",
          "text": [
            "Model: \"sequential_2\"\n",
            "_________________________________________________________________\n",
            " Layer (type)                Output Shape              Param #   \n",
            "=================================================================\n",
            " dense_5 (Dense)             (None, 11)                132       \n",
            "                                                                 \n",
            " dense_6 (Dense)             (None, 11)                132       \n",
            "                                                                 \n",
            " dense_7 (Dense)             (None, 11)                132       \n",
            "                                                                 \n",
            " dense_8 (Dense)             (None, 11)                132       \n",
            "                                                                 \n",
            " dense_9 (Dense)             (None, 11)                132       \n",
            "                                                                 \n",
            " dense_10 (Dense)            (None, 1)                 12        \n",
            "                                                                 \n",
            "=================================================================\n",
            "Total params: 672\n",
            "Trainable params: 672\n",
            "Non-trainable params: 0\n",
            "_________________________________________________________________\n"
          ]
        }
      ]
    },
    {
      "cell_type": "code",
      "source": [
        "model.compile(loss='binary_crossentropy',optimizer='Adam',metrics=['accuracy'])"
      ],
      "metadata": {
        "id": "10yE5vgCmX17"
      },
      "execution_count": 50,
      "outputs": []
    },
    {
      "cell_type": "code",
      "source": [
        "history = model.fit(x_train_scaled,y_train,epochs=100,validation_split=0.2)"
      ],
      "metadata": {
        "colab": {
          "base_uri": "https://localhost:8080/"
        },
        "id": "BRHtwZ2qm0D6",
        "outputId": "73e7d9e0-fb61-4727-991d-479886f46c01"
      },
      "execution_count": 55,
      "outputs": [
        {
          "output_type": "stream",
          "name": "stdout",
          "text": [
            "Epoch 1/100\n",
            "200/200 [==============================] - 1s 3ms/step - loss: 0.3009 - accuracy: 0.8795 - val_loss: 0.3750 - val_accuracy: 0.8512\n",
            "Epoch 2/100\n",
            "200/200 [==============================] - 1s 3ms/step - loss: 0.2998 - accuracy: 0.8808 - val_loss: 0.3841 - val_accuracy: 0.8519\n",
            "Epoch 3/100\n",
            "200/200 [==============================] - 1s 3ms/step - loss: 0.3018 - accuracy: 0.8784 - val_loss: 0.3715 - val_accuracy: 0.8531\n",
            "Epoch 4/100\n",
            "200/200 [==============================] - 1s 3ms/step - loss: 0.3010 - accuracy: 0.8797 - val_loss: 0.3710 - val_accuracy: 0.8544\n",
            "Epoch 5/100\n",
            "200/200 [==============================] - 1s 3ms/step - loss: 0.2998 - accuracy: 0.8809 - val_loss: 0.3708 - val_accuracy: 0.8512\n",
            "Epoch 6/100\n",
            "200/200 [==============================] - 1s 3ms/step - loss: 0.3005 - accuracy: 0.8795 - val_loss: 0.3718 - val_accuracy: 0.8494\n",
            "Epoch 7/100\n",
            "200/200 [==============================] - 1s 3ms/step - loss: 0.3008 - accuracy: 0.8813 - val_loss: 0.3808 - val_accuracy: 0.8506\n",
            "Epoch 8/100\n",
            "200/200 [==============================] - 1s 3ms/step - loss: 0.3010 - accuracy: 0.8795 - val_loss: 0.3643 - val_accuracy: 0.8506\n",
            "Epoch 9/100\n",
            "200/200 [==============================] - 1s 3ms/step - loss: 0.3023 - accuracy: 0.8778 - val_loss: 0.3723 - val_accuracy: 0.8494\n",
            "Epoch 10/100\n",
            "200/200 [==============================] - 1s 3ms/step - loss: 0.3006 - accuracy: 0.8813 - val_loss: 0.3718 - val_accuracy: 0.8519\n",
            "Epoch 11/100\n",
            "200/200 [==============================] - 1s 6ms/step - loss: 0.2994 - accuracy: 0.8808 - val_loss: 0.3792 - val_accuracy: 0.8487\n",
            "Epoch 12/100\n",
            "200/200 [==============================] - 1s 4ms/step - loss: 0.3004 - accuracy: 0.8780 - val_loss: 0.3761 - val_accuracy: 0.8500\n",
            "Epoch 13/100\n",
            "200/200 [==============================] - 1s 5ms/step - loss: 0.3002 - accuracy: 0.8822 - val_loss: 0.3831 - val_accuracy: 0.8525\n",
            "Epoch 14/100\n",
            "200/200 [==============================] - 1s 5ms/step - loss: 0.2984 - accuracy: 0.8825 - val_loss: 0.3781 - val_accuracy: 0.8456\n",
            "Epoch 15/100\n",
            "200/200 [==============================] - 1s 4ms/step - loss: 0.3008 - accuracy: 0.8777 - val_loss: 0.3719 - val_accuracy: 0.8475\n",
            "Epoch 16/100\n",
            "200/200 [==============================] - 1s 5ms/step - loss: 0.3001 - accuracy: 0.8806 - val_loss: 0.3740 - val_accuracy: 0.8500\n",
            "Epoch 17/100\n",
            "200/200 [==============================] - 1s 6ms/step - loss: 0.3005 - accuracy: 0.8800 - val_loss: 0.3752 - val_accuracy: 0.8525\n",
            "Epoch 18/100\n",
            "200/200 [==============================] - 1s 5ms/step - loss: 0.2981 - accuracy: 0.8814 - val_loss: 0.3756 - val_accuracy: 0.8500\n",
            "Epoch 19/100\n",
            "200/200 [==============================] - 1s 4ms/step - loss: 0.2993 - accuracy: 0.8800 - val_loss: 0.3746 - val_accuracy: 0.8556\n",
            "Epoch 20/100\n",
            "200/200 [==============================] - 1s 4ms/step - loss: 0.2997 - accuracy: 0.8784 - val_loss: 0.3772 - val_accuracy: 0.8462\n",
            "Epoch 21/100\n",
            "200/200 [==============================] - 1s 5ms/step - loss: 0.2993 - accuracy: 0.8822 - val_loss: 0.3710 - val_accuracy: 0.8500\n",
            "Epoch 22/100\n",
            "200/200 [==============================] - 1s 3ms/step - loss: 0.2995 - accuracy: 0.8792 - val_loss: 0.3662 - val_accuracy: 0.8537\n",
            "Epoch 23/100\n",
            "200/200 [==============================] - 1s 3ms/step - loss: 0.2990 - accuracy: 0.8811 - val_loss: 0.3743 - val_accuracy: 0.8525\n",
            "Epoch 24/100\n",
            "200/200 [==============================] - 1s 3ms/step - loss: 0.2997 - accuracy: 0.8789 - val_loss: 0.3763 - val_accuracy: 0.8525\n",
            "Epoch 25/100\n",
            "200/200 [==============================] - 1s 3ms/step - loss: 0.2985 - accuracy: 0.8811 - val_loss: 0.3717 - val_accuracy: 0.8519\n",
            "Epoch 26/100\n",
            "200/200 [==============================] - 0s 2ms/step - loss: 0.2977 - accuracy: 0.8803 - val_loss: 0.3811 - val_accuracy: 0.8525\n",
            "Epoch 27/100\n",
            "200/200 [==============================] - 1s 3ms/step - loss: 0.2981 - accuracy: 0.8800 - val_loss: 0.3775 - val_accuracy: 0.8487\n",
            "Epoch 28/100\n",
            "200/200 [==============================] - 1s 3ms/step - loss: 0.2965 - accuracy: 0.8811 - val_loss: 0.3788 - val_accuracy: 0.8494\n",
            "Epoch 29/100\n",
            "200/200 [==============================] - 1s 3ms/step - loss: 0.2972 - accuracy: 0.8808 - val_loss: 0.3774 - val_accuracy: 0.8531\n",
            "Epoch 30/100\n",
            "200/200 [==============================] - 0s 2ms/step - loss: 0.2981 - accuracy: 0.8813 - val_loss: 0.3744 - val_accuracy: 0.8525\n",
            "Epoch 31/100\n",
            "200/200 [==============================] - 1s 3ms/step - loss: 0.2967 - accuracy: 0.8805 - val_loss: 0.3723 - val_accuracy: 0.8494\n",
            "Epoch 32/100\n",
            "200/200 [==============================] - 1s 2ms/step - loss: 0.2968 - accuracy: 0.8795 - val_loss: 0.3699 - val_accuracy: 0.8494\n",
            "Epoch 33/100\n",
            "200/200 [==============================] - 1s 3ms/step - loss: 0.2982 - accuracy: 0.8786 - val_loss: 0.3788 - val_accuracy: 0.8462\n",
            "Epoch 34/100\n",
            "200/200 [==============================] - 1s 3ms/step - loss: 0.2951 - accuracy: 0.8823 - val_loss: 0.3654 - val_accuracy: 0.8506\n",
            "Epoch 35/100\n",
            "200/200 [==============================] - 1s 3ms/step - loss: 0.2961 - accuracy: 0.8813 - val_loss: 0.3726 - val_accuracy: 0.8519\n",
            "Epoch 36/100\n",
            "200/200 [==============================] - 1s 3ms/step - loss: 0.2966 - accuracy: 0.8822 - val_loss: 0.3765 - val_accuracy: 0.8481\n",
            "Epoch 37/100\n",
            "200/200 [==============================] - 1s 3ms/step - loss: 0.2962 - accuracy: 0.8798 - val_loss: 0.3893 - val_accuracy: 0.8537\n",
            "Epoch 38/100\n",
            "200/200 [==============================] - 1s 3ms/step - loss: 0.2974 - accuracy: 0.8813 - val_loss: 0.3734 - val_accuracy: 0.8494\n",
            "Epoch 39/100\n",
            "200/200 [==============================] - 1s 3ms/step - loss: 0.2960 - accuracy: 0.8814 - val_loss: 0.3765 - val_accuracy: 0.8500\n",
            "Epoch 40/100\n",
            "200/200 [==============================] - 1s 3ms/step - loss: 0.2953 - accuracy: 0.8831 - val_loss: 0.3808 - val_accuracy: 0.8487\n",
            "Epoch 41/100\n",
            "200/200 [==============================] - 0s 2ms/step - loss: 0.2947 - accuracy: 0.8828 - val_loss: 0.3805 - val_accuracy: 0.8525\n",
            "Epoch 42/100\n",
            "200/200 [==============================] - 1s 3ms/step - loss: 0.2963 - accuracy: 0.8802 - val_loss: 0.3744 - val_accuracy: 0.8494\n",
            "Epoch 43/100\n",
            "200/200 [==============================] - 1s 2ms/step - loss: 0.2941 - accuracy: 0.8827 - val_loss: 0.3905 - val_accuracy: 0.8512\n",
            "Epoch 44/100\n",
            "200/200 [==============================] - 1s 3ms/step - loss: 0.2954 - accuracy: 0.8817 - val_loss: 0.3767 - val_accuracy: 0.8544\n",
            "Epoch 45/100\n",
            "200/200 [==============================] - 1s 3ms/step - loss: 0.2979 - accuracy: 0.8795 - val_loss: 0.3755 - val_accuracy: 0.8506\n",
            "Epoch 46/100\n",
            "200/200 [==============================] - 1s 3ms/step - loss: 0.2960 - accuracy: 0.8809 - val_loss: 0.3775 - val_accuracy: 0.8487\n",
            "Epoch 47/100\n",
            "200/200 [==============================] - 1s 3ms/step - loss: 0.2949 - accuracy: 0.8811 - val_loss: 0.3954 - val_accuracy: 0.8512\n",
            "Epoch 48/100\n",
            "200/200 [==============================] - 1s 3ms/step - loss: 0.2958 - accuracy: 0.8817 - val_loss: 0.3846 - val_accuracy: 0.8537\n",
            "Epoch 49/100\n",
            "200/200 [==============================] - 1s 3ms/step - loss: 0.2955 - accuracy: 0.8820 - val_loss: 0.3761 - val_accuracy: 0.8519\n",
            "Epoch 50/100\n",
            "200/200 [==============================] - 1s 3ms/step - loss: 0.2951 - accuracy: 0.8789 - val_loss: 0.3746 - val_accuracy: 0.8531\n",
            "Epoch 51/100\n",
            "200/200 [==============================] - 1s 5ms/step - loss: 0.2952 - accuracy: 0.8820 - val_loss: 0.3896 - val_accuracy: 0.8531\n",
            "Epoch 52/100\n",
            "200/200 [==============================] - 1s 3ms/step - loss: 0.2969 - accuracy: 0.8800 - val_loss: 0.3868 - val_accuracy: 0.8487\n",
            "Epoch 53/100\n",
            "200/200 [==============================] - 1s 3ms/step - loss: 0.2936 - accuracy: 0.8808 - val_loss: 0.3827 - val_accuracy: 0.8519\n",
            "Epoch 54/100\n",
            "200/200 [==============================] - 1s 3ms/step - loss: 0.2940 - accuracy: 0.8817 - val_loss: 0.3907 - val_accuracy: 0.8525\n",
            "Epoch 55/100\n",
            "200/200 [==============================] - 1s 3ms/step - loss: 0.2949 - accuracy: 0.8823 - val_loss: 0.3844 - val_accuracy: 0.8519\n",
            "Epoch 56/100\n",
            "200/200 [==============================] - 1s 3ms/step - loss: 0.2939 - accuracy: 0.8811 - val_loss: 0.3755 - val_accuracy: 0.8462\n",
            "Epoch 57/100\n",
            "200/200 [==============================] - 1s 3ms/step - loss: 0.2932 - accuracy: 0.8814 - val_loss: 0.3853 - val_accuracy: 0.8481\n",
            "Epoch 58/100\n",
            "200/200 [==============================] - 1s 3ms/step - loss: 0.2942 - accuracy: 0.8825 - val_loss: 0.3871 - val_accuracy: 0.8506\n",
            "Epoch 59/100\n",
            "200/200 [==============================] - 1s 3ms/step - loss: 0.2936 - accuracy: 0.8802 - val_loss: 0.3802 - val_accuracy: 0.8506\n",
            "Epoch 60/100\n",
            "200/200 [==============================] - 1s 3ms/step - loss: 0.2923 - accuracy: 0.8823 - val_loss: 0.3785 - val_accuracy: 0.8462\n",
            "Epoch 61/100\n",
            "200/200 [==============================] - 1s 3ms/step - loss: 0.2934 - accuracy: 0.8825 - val_loss: 0.3849 - val_accuracy: 0.8544\n",
            "Epoch 62/100\n",
            "200/200 [==============================] - 1s 3ms/step - loss: 0.2938 - accuracy: 0.8808 - val_loss: 0.3796 - val_accuracy: 0.8512\n",
            "Epoch 63/100\n",
            "200/200 [==============================] - 1s 3ms/step - loss: 0.2921 - accuracy: 0.8822 - val_loss: 0.3799 - val_accuracy: 0.8487\n",
            "Epoch 64/100\n",
            "200/200 [==============================] - 1s 3ms/step - loss: 0.2910 - accuracy: 0.8789 - val_loss: 0.3832 - val_accuracy: 0.8506\n",
            "Epoch 65/100\n",
            "200/200 [==============================] - 1s 3ms/step - loss: 0.2925 - accuracy: 0.8817 - val_loss: 0.3877 - val_accuracy: 0.8475\n",
            "Epoch 66/100\n",
            "200/200 [==============================] - 1s 3ms/step - loss: 0.2957 - accuracy: 0.8811 - val_loss: 0.3893 - val_accuracy: 0.8525\n",
            "Epoch 67/100\n",
            "200/200 [==============================] - 1s 3ms/step - loss: 0.2912 - accuracy: 0.8814 - val_loss: 0.3874 - val_accuracy: 0.8487\n",
            "Epoch 68/100\n",
            "200/200 [==============================] - 1s 3ms/step - loss: 0.2912 - accuracy: 0.8806 - val_loss: 0.3907 - val_accuracy: 0.8494\n",
            "Epoch 69/100\n",
            "200/200 [==============================] - 1s 3ms/step - loss: 0.2922 - accuracy: 0.8823 - val_loss: 0.3867 - val_accuracy: 0.8537\n",
            "Epoch 70/100\n",
            "200/200 [==============================] - 1s 3ms/step - loss: 0.2917 - accuracy: 0.8813 - val_loss: 0.3886 - val_accuracy: 0.8500\n",
            "Epoch 71/100\n",
            "200/200 [==============================] - 1s 3ms/step - loss: 0.2925 - accuracy: 0.8805 - val_loss: 0.3819 - val_accuracy: 0.8500\n",
            "Epoch 72/100\n",
            "200/200 [==============================] - 1s 3ms/step - loss: 0.2904 - accuracy: 0.8819 - val_loss: 0.3828 - val_accuracy: 0.8462\n",
            "Epoch 73/100\n",
            "200/200 [==============================] - 1s 3ms/step - loss: 0.2914 - accuracy: 0.8817 - val_loss: 0.3988 - val_accuracy: 0.8462\n",
            "Epoch 74/100\n",
            "200/200 [==============================] - 1s 3ms/step - loss: 0.2904 - accuracy: 0.8822 - val_loss: 0.3883 - val_accuracy: 0.8506\n",
            "Epoch 75/100\n",
            "200/200 [==============================] - 1s 4ms/step - loss: 0.2901 - accuracy: 0.8834 - val_loss: 0.3847 - val_accuracy: 0.8487\n",
            "Epoch 76/100\n",
            "200/200 [==============================] - 1s 5ms/step - loss: 0.2911 - accuracy: 0.8803 - val_loss: 0.3900 - val_accuracy: 0.8475\n",
            "Epoch 77/100\n",
            "200/200 [==============================] - 1s 5ms/step - loss: 0.2899 - accuracy: 0.8823 - val_loss: 0.3896 - val_accuracy: 0.8525\n",
            "Epoch 78/100\n",
            "200/200 [==============================] - 1s 5ms/step - loss: 0.2901 - accuracy: 0.8797 - val_loss: 0.3887 - val_accuracy: 0.8487\n",
            "Epoch 79/100\n",
            "200/200 [==============================] - 1s 5ms/step - loss: 0.2891 - accuracy: 0.8814 - val_loss: 0.3929 - val_accuracy: 0.8462\n",
            "Epoch 80/100\n",
            "200/200 [==============================] - 1s 3ms/step - loss: 0.2888 - accuracy: 0.8813 - val_loss: 0.3959 - val_accuracy: 0.8500\n",
            "Epoch 81/100\n",
            "200/200 [==============================] - 1s 3ms/step - loss: 0.2889 - accuracy: 0.8809 - val_loss: 0.3824 - val_accuracy: 0.8494\n",
            "Epoch 82/100\n",
            "200/200 [==============================] - 1s 3ms/step - loss: 0.2890 - accuracy: 0.8816 - val_loss: 0.3824 - val_accuracy: 0.8550\n",
            "Epoch 83/100\n",
            "200/200 [==============================] - 1s 3ms/step - loss: 0.2892 - accuracy: 0.8805 - val_loss: 0.3820 - val_accuracy: 0.8475\n",
            "Epoch 84/100\n",
            "200/200 [==============================] - 1s 3ms/step - loss: 0.2892 - accuracy: 0.8802 - val_loss: 0.3850 - val_accuracy: 0.8525\n",
            "Epoch 85/100\n",
            "200/200 [==============================] - 1s 3ms/step - loss: 0.2898 - accuracy: 0.8813 - val_loss: 0.3958 - val_accuracy: 0.8475\n",
            "Epoch 86/100\n",
            "200/200 [==============================] - 1s 3ms/step - loss: 0.2886 - accuracy: 0.8813 - val_loss: 0.3917 - val_accuracy: 0.8512\n",
            "Epoch 87/100\n",
            "200/200 [==============================] - 1s 3ms/step - loss: 0.2883 - accuracy: 0.8841 - val_loss: 0.3912 - val_accuracy: 0.8487\n",
            "Epoch 88/100\n",
            "200/200 [==============================] - 1s 3ms/step - loss: 0.2876 - accuracy: 0.8817 - val_loss: 0.3873 - val_accuracy: 0.8494\n",
            "Epoch 89/100\n",
            "200/200 [==============================] - 1s 3ms/step - loss: 0.2890 - accuracy: 0.8820 - val_loss: 0.3916 - val_accuracy: 0.8544\n",
            "Epoch 90/100\n",
            "200/200 [==============================] - 1s 3ms/step - loss: 0.2883 - accuracy: 0.8839 - val_loss: 0.4030 - val_accuracy: 0.8450\n",
            "Epoch 91/100\n",
            "200/200 [==============================] - 1s 3ms/step - loss: 0.2885 - accuracy: 0.8828 - val_loss: 0.4095 - val_accuracy: 0.8506\n",
            "Epoch 92/100\n",
            "200/200 [==============================] - 1s 3ms/step - loss: 0.2882 - accuracy: 0.8834 - val_loss: 0.3977 - val_accuracy: 0.8506\n",
            "Epoch 93/100\n",
            "200/200 [==============================] - 1s 3ms/step - loss: 0.2882 - accuracy: 0.8842 - val_loss: 0.3860 - val_accuracy: 0.8531\n",
            "Epoch 94/100\n",
            "200/200 [==============================] - 1s 3ms/step - loss: 0.2878 - accuracy: 0.8830 - val_loss: 0.3880 - val_accuracy: 0.8494\n",
            "Epoch 95/100\n",
            "200/200 [==============================] - 1s 3ms/step - loss: 0.2877 - accuracy: 0.8820 - val_loss: 0.4020 - val_accuracy: 0.8537\n",
            "Epoch 96/100\n",
            "200/200 [==============================] - 0s 2ms/step - loss: 0.2881 - accuracy: 0.8825 - val_loss: 0.3957 - val_accuracy: 0.8494\n",
            "Epoch 97/100\n",
            "200/200 [==============================] - 1s 3ms/step - loss: 0.2868 - accuracy: 0.8834 - val_loss: 0.3894 - val_accuracy: 0.8531\n",
            "Epoch 98/100\n",
            "200/200 [==============================] - 1s 3ms/step - loss: 0.2876 - accuracy: 0.8817 - val_loss: 0.3975 - val_accuracy: 0.8500\n",
            "Epoch 99/100\n",
            "200/200 [==============================] - 1s 3ms/step - loss: 0.2853 - accuracy: 0.8827 - val_loss: 0.4080 - val_accuracy: 0.8456\n",
            "Epoch 100/100\n",
            "200/200 [==============================] - 1s 3ms/step - loss: 0.2871 - accuracy: 0.8822 - val_loss: 0.3964 - val_accuracy: 0.8531\n"
          ]
        }
      ]
    },
    {
      "cell_type": "code",
      "source": [
        "# model.layers[0].get_weights()"
      ],
      "metadata": {
        "colab": {
          "base_uri": "https://localhost:8080/"
        },
        "id": "9l6We0iknByX",
        "outputId": "855796d4-3fce-4bb3-c1b8-48882b6a10b4"
      },
      "execution_count": 37,
      "outputs": [
        {
          "output_type": "execute_result",
          "data": {
            "text/plain": [
              "[array([[ 1.34544715e-01, -2.06749048e-02, -1.78843178e-03,\n",
              "         -2.31028333e-01, -5.84989674e-02, -2.18066663e-01,\n",
              "         -1.58542901e-01,  3.93302664e-02,  2.00615779e-01,\n",
              "         -1.08727850e-01,  3.18730205e-01],\n",
              "        [-4.99259830e-01,  5.20571172e-01,  4.12887394e-01,\n",
              "          6.01388998e-02,  3.26249540e-01, -5.20321131e-01,\n",
              "         -7.12894559e-01,  6.32167220e-01,  3.97906452e-01,\n",
              "          1.84349604e-02, -6.07391000e-02],\n",
              "        [-2.66887009e-01,  1.01604678e-01,  4.24326181e-01,\n",
              "          1.81381419e-01,  4.27328855e-01,  7.85332248e-02,\n",
              "          1.21620752e-01,  9.50665846e-02, -2.08957478e-01,\n",
              "         -3.53529662e-01, -1.15228496e-01],\n",
              "        [-4.30710018e-01, -4.33100700e-01, -1.55358076e-01,\n",
              "          8.41086954e-02, -4.62166071e-02, -2.47605026e-01,\n",
              "         -2.63822079e-01, -1.53670609e-01,  3.49177480e-01,\n",
              "         -1.17782004e-01,  3.27668995e-01],\n",
              "        [ 6.52054176e-02, -1.13408482e+00, -1.23799108e-01,\n",
              "          9.32749927e-01,  8.80453922e-03, -3.33231874e-03,\n",
              "          1.76106513e-01,  1.77482039e-01,  6.70763791e-01,\n",
              "         -3.55736285e-01, -1.01043165e-01],\n",
              "        [ 2.53624082e-01,  7.77802542e-02, -2.22212195e-01,\n",
              "          2.99311243e-02,  3.86094868e-01, -2.91098714e-01,\n",
              "          6.88471049e-02,  8.03799406e-02,  1.25280842e-01,\n",
              "          4.63367581e-01,  2.22665817e-01],\n",
              "        [-3.47496480e-01, -9.80761871e-02,  3.66807193e-01,\n",
              "         -1.23224758e-01,  2.39252239e-01, -3.15432221e-01,\n",
              "          7.52765685e-02,  6.39183760e-01, -2.90720314e-01,\n",
              "         -5.79156280e-01,  2.30128750e-01],\n",
              "        [ 1.97099984e-01,  4.11355905e-02, -2.16573626e-01,\n",
              "         -2.01527923e-02,  1.00823201e-01, -4.07498032e-01,\n",
              "          5.98394610e-02,  1.23147950e-01,  5.81540614e-02,\n",
              "          4.38117944e-02,  3.49401757e-02],\n",
              "        [-5.88881731e-01,  2.63300747e-01,  1.17632680e-01,\n",
              "          6.01654500e-02, -2.32971758e-01, -1.70686856e-01,\n",
              "          2.70284146e-01, -2.12024655e-02, -2.87517697e-01,\n",
              "          5.14590025e-01, -5.11998594e-01],\n",
              "        [-9.16959643e-02,  1.14743501e-01, -3.14082175e-01,\n",
              "          1.37194082e-01,  3.95417839e-01,  3.14765930e-01,\n",
              "         -4.85977679e-01,  2.41715804e-01, -6.32733456e-04,\n",
              "         -3.24099302e-01, -1.67476222e-01],\n",
              "        [-1.01345181e-01,  1.09509798e-02, -4.09484565e-01,\n",
              "         -2.82947630e-01,  4.34950832e-03, -1.77809566e-01,\n",
              "          7.72206783e-02,  1.99598461e-01,  1.05244435e-01,\n",
              "         -1.47725135e-01,  4.11077350e-01]], dtype=float32),\n",
              " array([ 0.12954561,  0.27565113, -0.08828072, -0.42510858, -0.05339968,\n",
              "         0.25047103,  0.4226465 , -0.22981827, -0.25009957,  0.16710852,\n",
              "         0.37090746], dtype=float32)]"
            ]
          },
          "metadata": {},
          "execution_count": 37
        }
      ]
    },
    {
      "cell_type": "code",
      "source": [
        "y_log = model.predict(x_test_scaled)"
      ],
      "metadata": {
        "colab": {
          "base_uri": "https://localhost:8080/"
        },
        "id": "zpU_zUgmnSO2",
        "outputId": "f5cdee15-0481-4f1b-95f4-3f0c600eb3a2"
      },
      "execution_count": 52,
      "outputs": [
        {
          "output_type": "stream",
          "name": "stdout",
          "text": [
            "63/63 [==============================] - 0s 2ms/step\n"
          ]
        }
      ]
    },
    {
      "cell_type": "code",
      "source": [
        "y_pred = np.where(y_log>0.5,1,0)"
      ],
      "metadata": {
        "id": "GI1B4I0QnjQv"
      },
      "execution_count": 53,
      "outputs": []
    },
    {
      "cell_type": "code",
      "source": [
        "from sklearn.metrics import accuracy_score\n",
        "accuracy_score(y_test,y_pred)"
      ],
      "metadata": {
        "colab": {
          "base_uri": "https://localhost:8080/"
        },
        "id": "vnWQoa-Vn0CB",
        "outputId": "a8fd9ec6-6617-450f-e8da-41be5f3d4150"
      },
      "execution_count": 54,
      "outputs": [
        {
          "output_type": "execute_result",
          "data": {
            "text/plain": [
              "0.8535"
            ]
          },
          "metadata": {},
          "execution_count": 54
        }
      ]
    },
    {
      "cell_type": "code",
      "source": [
        "import matplotlib.pyplot as plt"
      ],
      "metadata": {
        "id": "iZDc-iIGoEAM"
      },
      "execution_count": 57,
      "outputs": []
    },
    {
      "cell_type": "code",
      "source": [
        "plt.plot(history.history['loss'])\n",
        "plt.plot(history.history['val_loss'])"
      ],
      "metadata": {
        "colab": {
          "base_uri": "https://localhost:8080/",
          "height": 283
        },
        "id": "kiarVzqgqgbs",
        "outputId": "3883106b-45d5-45cc-ff2e-66325ab1b657"
      },
      "execution_count": 59,
      "outputs": [
        {
          "output_type": "execute_result",
          "data": {
            "text/plain": [
              "[<matplotlib.lines.Line2D at 0x7f1a3ff56df0>]"
            ]
          },
          "metadata": {},
          "execution_count": 59
        },
        {
          "output_type": "display_data",
          "data": {
            "text/plain": [
              "<Figure size 432x288 with 1 Axes>"
            ],
            "image/png": "[encoded data removed]"
          },
          "metadata": {
            "needs_background": "light"
          }
        }
      ]
    },
    {
      "cell_type": "code",
      "source": [
        "plt.plot(history.history['accuracy'])\n",
        "plt.plot(history.history['val_accuracy'])"
      ],
      "metadata": {
        "colab": {
          "base_uri": "https://localhost:8080/",
          "height": 283
        },
        "id": "gDUAa7cOrH99",
        "outputId": "2bac2830-89ff-4285-fb4f-ad8e215a8d4f"
      },
      "execution_count": 60,
      "outputs": [
        {
          "output_type": "execute_result",
          "data": {
            "text/plain": [
              "[<matplotlib.lines.Line2D at 0x7f1a4004ff10>]"
            ]
          },
          "metadata": {},
          "execution_count": 60
        },
        {
          "output_type": "display_data",
          "data": {
            "text/plain": [
              "<Figure size 432x288 with 1 Axes>"
            ],
            "image/png": "[encoded data removed]"
          },
          "metadata": {
            "needs_background": "light"
          }
        }
      ]
    },
    {
      "cell_type": "code",
      "source": [],
      "metadata": {
        "id": "rm8mjp7BrWF6"
      },
      "execution_count": null,
      "outputs": []
    }
  ]
}